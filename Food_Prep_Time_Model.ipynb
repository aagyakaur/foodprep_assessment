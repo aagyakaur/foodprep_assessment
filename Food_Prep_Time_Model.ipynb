{
 "cells": [
  {
   "cell_type": "markdown",
   "id": "74349f4e",
   "metadata": {},
   "source": [
    "# <b><u>Problem Statement :</u></b> Predict prep_time_minutes using orders & restaurants datasets"
   ]
  },
  {
   "cell_type": "markdown",
   "id": "f93ae72b",
   "metadata": {},
   "source": [
    "# <b><font color = Blue>Import Libraries"
   ]
  },
  {
   "cell_type": "code",
   "execution_count": 1,
   "id": "a735dc09",
   "metadata": {},
   "outputs": [],
   "source": [
    "import pandas as pd\n",
    "import numpy as np\n",
    "import os\n",
    "from datetime import datetime, timezone\n",
    "import seaborn as sns\n",
    "from sklearn.linear_model import LinearRegression\n",
    "from sklearn.model_selection import train_test_split\n",
    "from sklearn.preprocessing import PolynomialFeatures\n",
    "from sklearn.metrics import r2_score,mean_squared_error,mean_absolute_error\n",
    "from sklearn.ensemble import RandomForestRegressor\n",
    "from sklearn.preprocessing import MinMaxScaler"
   ]
  },
  {
   "cell_type": "code",
   "execution_count": 2,
   "id": "cba1c440",
   "metadata": {},
   "outputs": [
    {
     "data": {
      "text/plain": [
       "'/Users/aagya/Food_Prep_Time_Model'"
      ]
     },
     "execution_count": 2,
     "metadata": {},
     "output_type": "execute_result"
    }
   ],
   "source": [
    "os.getcwd()"
   ]
  },
  {
   "cell_type": "markdown",
   "id": "29e32171",
   "metadata": {},
   "source": [
    "# <b><font color = Blue>Read input files"
   ]
  },
  {
   "cell_type": "code",
   "execution_count": 3,
   "id": "3cbf8a3a",
   "metadata": {},
   "outputs": [],
   "source": [
    "df_orders = pd.read_csv('./input/orders.csv')"
   ]
  },
  {
   "cell_type": "code",
   "execution_count": 4,
   "id": "6aa6085b",
   "metadata": {},
   "outputs": [
    {
     "data": {
      "text/html": [
       "<div>\n",
       "<style scoped>\n",
       "    .dataframe tbody tr th:only-of-type {\n",
       "        vertical-align: middle;\n",
       "    }\n",
       "\n",
       "    .dataframe tbody tr th {\n",
       "        vertical-align: top;\n",
       "    }\n",
       "\n",
       "    .dataframe thead th {\n",
       "        text-align: right;\n",
       "    }\n",
       "</style>\n",
       "<table border=\"1\" class=\"dataframe\">\n",
       "  <thead>\n",
       "    <tr style=\"text-align: right;\">\n",
       "      <th></th>\n",
       "      <th>order_acknowledged_at</th>\n",
       "      <th>order_ready_at</th>\n",
       "      <th>order_value_gbp</th>\n",
       "      <th>restaurant_id</th>\n",
       "      <th>number_of_items</th>\n",
       "      <th>prep_time_seconds</th>\n",
       "    </tr>\n",
       "  </thead>\n",
       "  <tbody>\n",
       "    <tr>\n",
       "      <th>0</th>\n",
       "      <td>2015-06-01 12:28:28.952789+01:00</td>\n",
       "      <td>2015-06-01 14:12:09.474896+01:00</td>\n",
       "      <td>59.90</td>\n",
       "      <td>1326</td>\n",
       "      <td>2</td>\n",
       "      <td>6220</td>\n",
       "    </tr>\n",
       "    <tr>\n",
       "      <th>1</th>\n",
       "      <td>2015-06-06 17:06:24.434807+01:00</td>\n",
       "      <td>2015-06-06 17:16:27.520253+01:00</td>\n",
       "      <td>24.00</td>\n",
       "      <td>1326</td>\n",
       "      <td>8</td>\n",
       "      <td>603</td>\n",
       "    </tr>\n",
       "    <tr>\n",
       "      <th>2</th>\n",
       "      <td>2015-06-08 14:56:15.503204+01:00</td>\n",
       "      <td>2015-06-08 15:03:39.397496+01:00</td>\n",
       "      <td>15.25</td>\n",
       "      <td>1326</td>\n",
       "      <td>3</td>\n",
       "      <td>443</td>\n",
       "    </tr>\n",
       "    <tr>\n",
       "      <th>3</th>\n",
       "      <td>2015-06-12 15:12:20.497925+01:00</td>\n",
       "      <td>2015-06-12 15:23:30.064683+01:00</td>\n",
       "      <td>28.05</td>\n",
       "      <td>1326</td>\n",
       "      <td>8</td>\n",
       "      <td>669</td>\n",
       "    </tr>\n",
       "    <tr>\n",
       "      <th>4</th>\n",
       "      <td>2015-06-01 13:07:10.794050+01:00</td>\n",
       "      <td>2015-06-01 14:02:25.104517+01:00</td>\n",
       "      <td>56.30</td>\n",
       "      <td>255</td>\n",
       "      <td>7</td>\n",
       "      <td>3314</td>\n",
       "    </tr>\n",
       "  </tbody>\n",
       "</table>\n",
       "</div>"
      ],
      "text/plain": [
       "              order_acknowledged_at                    order_ready_at  \\\n",
       "0  2015-06-01 12:28:28.952789+01:00  2015-06-01 14:12:09.474896+01:00   \n",
       "1  2015-06-06 17:06:24.434807+01:00  2015-06-06 17:16:27.520253+01:00   \n",
       "2  2015-06-08 14:56:15.503204+01:00  2015-06-08 15:03:39.397496+01:00   \n",
       "3  2015-06-12 15:12:20.497925+01:00  2015-06-12 15:23:30.064683+01:00   \n",
       "4  2015-06-01 13:07:10.794050+01:00  2015-06-01 14:02:25.104517+01:00   \n",
       "\n",
       "   order_value_gbp  restaurant_id  number_of_items  prep_time_seconds  \n",
       "0            59.90           1326                2               6220  \n",
       "1            24.00           1326                8                603  \n",
       "2            15.25           1326                3                443  \n",
       "3            28.05           1326                8                669  \n",
       "4            56.30            255                7               3314  "
      ]
     },
     "execution_count": 4,
     "metadata": {},
     "output_type": "execute_result"
    }
   ],
   "source": [
    "df_orders.head()"
   ]
  },
  {
   "cell_type": "code",
   "execution_count": 5,
   "id": "6eb254d7",
   "metadata": {},
   "outputs": [
    {
     "name": "stdout",
     "output_type": "stream",
     "text": [
      "<class 'pandas.core.frame.DataFrame'>\n",
      "RangeIndex: 32394 entries, 0 to 32393\n",
      "Data columns (total 6 columns):\n",
      " #   Column                 Non-Null Count  Dtype  \n",
      "---  ------                 --------------  -----  \n",
      " 0   order_acknowledged_at  32394 non-null  object \n",
      " 1   order_ready_at         32394 non-null  object \n",
      " 2   order_value_gbp        32394 non-null  float64\n",
      " 3   restaurant_id          32394 non-null  int64  \n",
      " 4   number_of_items        32394 non-null  int64  \n",
      " 5   prep_time_seconds      32394 non-null  int64  \n",
      "dtypes: float64(1), int64(3), object(2)\n",
      "memory usage: 1.5+ MB\n"
     ]
    }
   ],
   "source": [
    "df_orders.info()\n",
    "#32394 Rows & 6 Columns"
   ]
  },
  {
   "cell_type": "code",
   "execution_count": 6,
   "id": "19cd9df1",
   "metadata": {},
   "outputs": [
    {
     "data": {
      "text/plain": [
       "order_acknowledged_at    32394\n",
       "order_ready_at           32394\n",
       "order_value_gbp           2845\n",
       "restaurant_id             1697\n",
       "number_of_items             29\n",
       "prep_time_seconds         4104\n",
       "dtype: int64"
      ]
     },
     "execution_count": 6,
     "metadata": {},
     "output_type": "execute_result"
    }
   ],
   "source": [
    "df_orders.nunique()\n",
    "#No of unique values in each of the six columns"
   ]
  },
  {
   "cell_type": "code",
   "execution_count": 7,
   "id": "8c5276f7",
   "metadata": {},
   "outputs": [],
   "source": [
    "df_restaurants = pd.read_csv('./input/restaurants.csv')"
   ]
  },
  {
   "cell_type": "code",
   "execution_count": 8,
   "id": "bc55cf85",
   "metadata": {},
   "outputs": [
    {
     "data": {
      "text/html": [
       "<div>\n",
       "<style scoped>\n",
       "    .dataframe tbody tr th:only-of-type {\n",
       "        vertical-align: middle;\n",
       "    }\n",
       "\n",
       "    .dataframe tbody tr th {\n",
       "        vertical-align: top;\n",
       "    }\n",
       "\n",
       "    .dataframe thead th {\n",
       "        text-align: right;\n",
       "    }\n",
       "</style>\n",
       "<table border=\"1\" class=\"dataframe\">\n",
       "  <thead>\n",
       "    <tr style=\"text-align: right;\">\n",
       "      <th></th>\n",
       "      <th>restaurant_id</th>\n",
       "      <th>country</th>\n",
       "      <th>city</th>\n",
       "      <th>type_of_food</th>\n",
       "    </tr>\n",
       "  </thead>\n",
       "  <tbody>\n",
       "    <tr>\n",
       "      <th>0</th>\n",
       "      <td>3</td>\n",
       "      <td>UK</td>\n",
       "      <td>London</td>\n",
       "      <td>thai</td>\n",
       "    </tr>\n",
       "    <tr>\n",
       "      <th>1</th>\n",
       "      <td>5</td>\n",
       "      <td>UK</td>\n",
       "      <td>London</td>\n",
       "      <td>italian</td>\n",
       "    </tr>\n",
       "    <tr>\n",
       "      <th>2</th>\n",
       "      <td>7</td>\n",
       "      <td>UK</td>\n",
       "      <td>London</td>\n",
       "      <td>italian</td>\n",
       "    </tr>\n",
       "    <tr>\n",
       "      <th>3</th>\n",
       "      <td>8</td>\n",
       "      <td>UK</td>\n",
       "      <td>London</td>\n",
       "      <td>chinese</td>\n",
       "    </tr>\n",
       "    <tr>\n",
       "      <th>4</th>\n",
       "      <td>9</td>\n",
       "      <td>France</td>\n",
       "      <td>Paris</td>\n",
       "      <td>korean</td>\n",
       "    </tr>\n",
       "  </tbody>\n",
       "</table>\n",
       "</div>"
      ],
      "text/plain": [
       "   restaurant_id country    city type_of_food\n",
       "0              3      UK  London         thai\n",
       "1              5      UK  London      italian\n",
       "2              7      UK  London      italian\n",
       "3              8      UK  London      chinese\n",
       "4              9  France   Paris       korean"
      ]
     },
     "execution_count": 8,
     "metadata": {},
     "output_type": "execute_result"
    }
   ],
   "source": [
    "df_restaurants.head()"
   ]
  },
  {
   "cell_type": "code",
   "execution_count": 9,
   "id": "e1da5435",
   "metadata": {},
   "outputs": [
    {
     "name": "stdout",
     "output_type": "stream",
     "text": [
      "<class 'pandas.core.frame.DataFrame'>\n",
      "RangeIndex: 1697 entries, 0 to 1696\n",
      "Data columns (total 4 columns):\n",
      " #   Column         Non-Null Count  Dtype \n",
      "---  ------         --------------  ----- \n",
      " 0   restaurant_id  1697 non-null   int64 \n",
      " 1   country        1697 non-null   object\n",
      " 2   city           1697 non-null   object\n",
      " 3   type_of_food   1697 non-null   object\n",
      "dtypes: int64(1), object(3)\n",
      "memory usage: 53.2+ KB\n"
     ]
    }
   ],
   "source": [
    "df_restaurants.info()\n",
    "#1697 Rows & 4 Columns"
   ]
  },
  {
   "cell_type": "markdown",
   "id": "92bd9802",
   "metadata": {},
   "source": [
    "# <b><font color = blue> Data Preparation"
   ]
  },
  {
   "cell_type": "markdown",
   "id": "f4fbac60",
   "metadata": {},
   "source": [
    "# Join both input sets using restaurant_id as the key"
   ]
  },
  {
   "cell_type": "code",
   "execution_count": 10,
   "id": "aca23204",
   "metadata": {},
   "outputs": [],
   "source": [
    "df_final = pd.merge(df_orders,df_restaurants, on = 'restaurant_id', how = 'inner')"
   ]
  },
  {
   "cell_type": "code",
   "execution_count": 11,
   "id": "6b35cca2",
   "metadata": {},
   "outputs": [
    {
     "data": {
      "text/html": [
       "<div>\n",
       "<style scoped>\n",
       "    .dataframe tbody tr th:only-of-type {\n",
       "        vertical-align: middle;\n",
       "    }\n",
       "\n",
       "    .dataframe tbody tr th {\n",
       "        vertical-align: top;\n",
       "    }\n",
       "\n",
       "    .dataframe thead th {\n",
       "        text-align: right;\n",
       "    }\n",
       "</style>\n",
       "<table border=\"1\" class=\"dataframe\">\n",
       "  <thead>\n",
       "    <tr style=\"text-align: right;\">\n",
       "      <th></th>\n",
       "      <th>order_acknowledged_at</th>\n",
       "      <th>order_ready_at</th>\n",
       "      <th>order_value_gbp</th>\n",
       "      <th>restaurant_id</th>\n",
       "      <th>number_of_items</th>\n",
       "      <th>prep_time_seconds</th>\n",
       "      <th>country</th>\n",
       "      <th>city</th>\n",
       "      <th>type_of_food</th>\n",
       "    </tr>\n",
       "  </thead>\n",
       "  <tbody>\n",
       "    <tr>\n",
       "      <th>0</th>\n",
       "      <td>2015-06-01 12:28:28.952789+01:00</td>\n",
       "      <td>2015-06-01 14:12:09.474896+01:00</td>\n",
       "      <td>59.90</td>\n",
       "      <td>1326</td>\n",
       "      <td>2</td>\n",
       "      <td>6220</td>\n",
       "      <td>UK</td>\n",
       "      <td>London</td>\n",
       "      <td>burritos</td>\n",
       "    </tr>\n",
       "    <tr>\n",
       "      <th>1</th>\n",
       "      <td>2015-06-06 17:06:24.434807+01:00</td>\n",
       "      <td>2015-06-06 17:16:27.520253+01:00</td>\n",
       "      <td>24.00</td>\n",
       "      <td>1326</td>\n",
       "      <td>8</td>\n",
       "      <td>603</td>\n",
       "      <td>UK</td>\n",
       "      <td>London</td>\n",
       "      <td>burritos</td>\n",
       "    </tr>\n",
       "    <tr>\n",
       "      <th>2</th>\n",
       "      <td>2015-06-08 14:56:15.503204+01:00</td>\n",
       "      <td>2015-06-08 15:03:39.397496+01:00</td>\n",
       "      <td>15.25</td>\n",
       "      <td>1326</td>\n",
       "      <td>3</td>\n",
       "      <td>443</td>\n",
       "      <td>UK</td>\n",
       "      <td>London</td>\n",
       "      <td>burritos</td>\n",
       "    </tr>\n",
       "    <tr>\n",
       "      <th>3</th>\n",
       "      <td>2015-06-12 15:12:20.497925+01:00</td>\n",
       "      <td>2015-06-12 15:23:30.064683+01:00</td>\n",
       "      <td>28.05</td>\n",
       "      <td>1326</td>\n",
       "      <td>8</td>\n",
       "      <td>669</td>\n",
       "      <td>UK</td>\n",
       "      <td>London</td>\n",
       "      <td>burritos</td>\n",
       "    </tr>\n",
       "    <tr>\n",
       "      <th>4</th>\n",
       "      <td>2015-06-01 13:07:10.794050+01:00</td>\n",
       "      <td>2015-06-01 14:02:25.104517+01:00</td>\n",
       "      <td>56.30</td>\n",
       "      <td>255</td>\n",
       "      <td>7</td>\n",
       "      <td>3314</td>\n",
       "      <td>UK</td>\n",
       "      <td>London</td>\n",
       "      <td>chinese</td>\n",
       "    </tr>\n",
       "  </tbody>\n",
       "</table>\n",
       "</div>"
      ],
      "text/plain": [
       "              order_acknowledged_at                    order_ready_at  \\\n",
       "0  2015-06-01 12:28:28.952789+01:00  2015-06-01 14:12:09.474896+01:00   \n",
       "1  2015-06-06 17:06:24.434807+01:00  2015-06-06 17:16:27.520253+01:00   \n",
       "2  2015-06-08 14:56:15.503204+01:00  2015-06-08 15:03:39.397496+01:00   \n",
       "3  2015-06-12 15:12:20.497925+01:00  2015-06-12 15:23:30.064683+01:00   \n",
       "4  2015-06-01 13:07:10.794050+01:00  2015-06-01 14:02:25.104517+01:00   \n",
       "\n",
       "   order_value_gbp  restaurant_id  number_of_items  prep_time_seconds country  \\\n",
       "0            59.90           1326                2               6220      UK   \n",
       "1            24.00           1326                8                603      UK   \n",
       "2            15.25           1326                3                443      UK   \n",
       "3            28.05           1326                8                669      UK   \n",
       "4            56.30            255                7               3314      UK   \n",
       "\n",
       "     city type_of_food  \n",
       "0  London     burritos  \n",
       "1  London     burritos  \n",
       "2  London     burritos  \n",
       "3  London     burritos  \n",
       "4  London      chinese  "
      ]
     },
     "execution_count": 11,
     "metadata": {},
     "output_type": "execute_result"
    }
   ],
   "source": [
    "df_final.head()"
   ]
  },
  {
   "cell_type": "code",
   "execution_count": 12,
   "id": "ce95aee6",
   "metadata": {},
   "outputs": [
    {
     "name": "stdout",
     "output_type": "stream",
     "text": [
      "<class 'pandas.core.frame.DataFrame'>\n",
      "Int64Index: 32394 entries, 0 to 32393\n",
      "Data columns (total 9 columns):\n",
      " #   Column                 Non-Null Count  Dtype  \n",
      "---  ------                 --------------  -----  \n",
      " 0   order_acknowledged_at  32394 non-null  object \n",
      " 1   order_ready_at         32394 non-null  object \n",
      " 2   order_value_gbp        32394 non-null  float64\n",
      " 3   restaurant_id          32394 non-null  int64  \n",
      " 4   number_of_items        32394 non-null  int64  \n",
      " 5   prep_time_seconds      32394 non-null  int64  \n",
      " 6   country                32394 non-null  object \n",
      " 7   city                   32394 non-null  object \n",
      " 8   type_of_food           32394 non-null  object \n",
      "dtypes: float64(1), int64(3), object(5)\n",
      "memory usage: 2.5+ MB\n"
     ]
    }
   ],
   "source": [
    "df_final.info()\n",
    "#32394 Rows & 9 Columns ; 0 Missing values"
   ]
  },
  {
   "cell_type": "markdown",
   "id": "b139f00e",
   "metadata": {},
   "source": [
    "# Numerical Features"
   ]
  },
  {
   "cell_type": "code",
   "execution_count": 13,
   "id": "9426d605",
   "metadata": {},
   "outputs": [
    {
     "data": {
      "text/html": [
       "<div>\n",
       "<style scoped>\n",
       "    .dataframe tbody tr th:only-of-type {\n",
       "        vertical-align: middle;\n",
       "    }\n",
       "\n",
       "    .dataframe tbody tr th {\n",
       "        vertical-align: top;\n",
       "    }\n",
       "\n",
       "    .dataframe thead th {\n",
       "        text-align: right;\n",
       "    }\n",
       "</style>\n",
       "<table border=\"1\" class=\"dataframe\">\n",
       "  <thead>\n",
       "    <tr style=\"text-align: right;\">\n",
       "      <th></th>\n",
       "      <th>order_value_gbp</th>\n",
       "      <th>restaurant_id</th>\n",
       "      <th>number_of_items</th>\n",
       "      <th>prep_time_seconds</th>\n",
       "    </tr>\n",
       "  </thead>\n",
       "  <tbody>\n",
       "    <tr>\n",
       "      <th>count</th>\n",
       "      <td>32394.000000</td>\n",
       "      <td>32394.000000</td>\n",
       "      <td>32394.000000</td>\n",
       "      <td>32394.000000</td>\n",
       "    </tr>\n",
       "    <tr>\n",
       "      <th>mean</th>\n",
       "      <td>26.547303</td>\n",
       "      <td>1290.555535</td>\n",
       "      <td>4.025715</td>\n",
       "      <td>1299.993857</td>\n",
       "    </tr>\n",
       "    <tr>\n",
       "      <th>std</th>\n",
       "      <td>19.263851</td>\n",
       "      <td>960.295504</td>\n",
       "      <td>2.392063</td>\n",
       "      <td>4404.573191</td>\n",
       "    </tr>\n",
       "    <tr>\n",
       "      <th>min</th>\n",
       "      <td>0.500000</td>\n",
       "      <td>3.000000</td>\n",
       "      <td>1.000000</td>\n",
       "      <td>0.000000</td>\n",
       "    </tr>\n",
       "    <tr>\n",
       "      <th>25%</th>\n",
       "      <td>16.700000</td>\n",
       "      <td>408.000000</td>\n",
       "      <td>3.000000</td>\n",
       "      <td>518.000000</td>\n",
       "    </tr>\n",
       "    <tr>\n",
       "      <th>50%</th>\n",
       "      <td>21.400000</td>\n",
       "      <td>1160.000000</td>\n",
       "      <td>3.000000</td>\n",
       "      <td>820.000000</td>\n",
       "    </tr>\n",
       "    <tr>\n",
       "      <th>75%</th>\n",
       "      <td>30.250000</td>\n",
       "      <td>2117.000000</td>\n",
       "      <td>5.000000</td>\n",
       "      <td>1227.000000</td>\n",
       "    </tr>\n",
       "    <tr>\n",
       "      <th>max</th>\n",
       "      <td>711.000000</td>\n",
       "      <td>3622.000000</td>\n",
       "      <td>38.000000</td>\n",
       "      <td>255499.000000</td>\n",
       "    </tr>\n",
       "  </tbody>\n",
       "</table>\n",
       "</div>"
      ],
      "text/plain": [
       "       order_value_gbp  restaurant_id  number_of_items  prep_time_seconds\n",
       "count     32394.000000   32394.000000     32394.000000       32394.000000\n",
       "mean         26.547303    1290.555535         4.025715        1299.993857\n",
       "std          19.263851     960.295504         2.392063        4404.573191\n",
       "min           0.500000       3.000000         1.000000           0.000000\n",
       "25%          16.700000     408.000000         3.000000         518.000000\n",
       "50%          21.400000    1160.000000         3.000000         820.000000\n",
       "75%          30.250000    2117.000000         5.000000        1227.000000\n",
       "max         711.000000    3622.000000        38.000000      255499.000000"
      ]
     },
     "execution_count": 13,
     "metadata": {},
     "output_type": "execute_result"
    }
   ],
   "source": [
    "df_final.describe()\n",
    "# Details of Numerical features"
   ]
  },
  {
   "cell_type": "markdown",
   "id": "b1b83de3",
   "metadata": {},
   "source": [
    "# Non-numerical Features"
   ]
  },
  {
   "cell_type": "markdown",
   "id": "0afcd7a4",
   "metadata": {},
   "source": [
    "# 1. Remove local timezone from order_acknowledged_at & order_ready_at"
   ]
  },
  {
   "cell_type": "code",
   "execution_count": 14,
   "id": "90f43b9c",
   "metadata": {},
   "outputs": [],
   "source": [
    "#Change the object to datetime\n",
    "df_final['order_acknowledged_at'] = pd.to_datetime(df_final.order_acknowledged_at, format='%Y-%m-%d %H:%M:%S')\n",
    "df_final['order_ready_at'] = pd.to_datetime(df_final.order_ready_at, format='%Y-%m-%d %H:%M:%S')"
   ]
  },
  {
   "cell_type": "code",
   "execution_count": 15,
   "id": "62bfe00a",
   "metadata": {},
   "outputs": [],
   "source": [
    "def remove_timezone(dt):\n",
    "    return dt.replace(tzinfo=None)"
   ]
  },
  {
   "cell_type": "code",
   "execution_count": 16,
   "id": "e3090810",
   "metadata": {},
   "outputs": [],
   "source": [
    "df_final['acknowledged_time'] = df_final['order_acknowledged_at'].apply(remove_timezone)\n",
    "df_final['ready_time'] = df_final['order_ready_at'].apply(remove_timezone)"
   ]
  },
  {
   "cell_type": "code",
   "execution_count": 17,
   "id": "5d137c0a",
   "metadata": {},
   "outputs": [
    {
     "data": {
      "text/html": [
       "<div>\n",
       "<style scoped>\n",
       "    .dataframe tbody tr th:only-of-type {\n",
       "        vertical-align: middle;\n",
       "    }\n",
       "\n",
       "    .dataframe tbody tr th {\n",
       "        vertical-align: top;\n",
       "    }\n",
       "\n",
       "    .dataframe thead th {\n",
       "        text-align: right;\n",
       "    }\n",
       "</style>\n",
       "<table border=\"1\" class=\"dataframe\">\n",
       "  <thead>\n",
       "    <tr style=\"text-align: right;\">\n",
       "      <th></th>\n",
       "      <th>order_acknowledged_at</th>\n",
       "      <th>order_ready_at</th>\n",
       "      <th>order_value_gbp</th>\n",
       "      <th>restaurant_id</th>\n",
       "      <th>number_of_items</th>\n",
       "      <th>prep_time_seconds</th>\n",
       "      <th>country</th>\n",
       "      <th>city</th>\n",
       "      <th>type_of_food</th>\n",
       "      <th>acknowledged_time</th>\n",
       "      <th>ready_time</th>\n",
       "    </tr>\n",
       "  </thead>\n",
       "  <tbody>\n",
       "    <tr>\n",
       "      <th>0</th>\n",
       "      <td>2015-06-01 12:28:28.952789+01:00</td>\n",
       "      <td>2015-06-01 14:12:09.474896+01:00</td>\n",
       "      <td>59.90</td>\n",
       "      <td>1326</td>\n",
       "      <td>2</td>\n",
       "      <td>6220</td>\n",
       "      <td>UK</td>\n",
       "      <td>London</td>\n",
       "      <td>burritos</td>\n",
       "      <td>2015-06-01 12:28:28.952789</td>\n",
       "      <td>2015-06-01 14:12:09.474896</td>\n",
       "    </tr>\n",
       "    <tr>\n",
       "      <th>1</th>\n",
       "      <td>2015-06-06 17:06:24.434807+01:00</td>\n",
       "      <td>2015-06-06 17:16:27.520253+01:00</td>\n",
       "      <td>24.00</td>\n",
       "      <td>1326</td>\n",
       "      <td>8</td>\n",
       "      <td>603</td>\n",
       "      <td>UK</td>\n",
       "      <td>London</td>\n",
       "      <td>burritos</td>\n",
       "      <td>2015-06-06 17:06:24.434807</td>\n",
       "      <td>2015-06-06 17:16:27.520253</td>\n",
       "    </tr>\n",
       "    <tr>\n",
       "      <th>2</th>\n",
       "      <td>2015-06-08 14:56:15.503204+01:00</td>\n",
       "      <td>2015-06-08 15:03:39.397496+01:00</td>\n",
       "      <td>15.25</td>\n",
       "      <td>1326</td>\n",
       "      <td>3</td>\n",
       "      <td>443</td>\n",
       "      <td>UK</td>\n",
       "      <td>London</td>\n",
       "      <td>burritos</td>\n",
       "      <td>2015-06-08 14:56:15.503204</td>\n",
       "      <td>2015-06-08 15:03:39.397496</td>\n",
       "    </tr>\n",
       "    <tr>\n",
       "      <th>3</th>\n",
       "      <td>2015-06-12 15:12:20.497925+01:00</td>\n",
       "      <td>2015-06-12 15:23:30.064683+01:00</td>\n",
       "      <td>28.05</td>\n",
       "      <td>1326</td>\n",
       "      <td>8</td>\n",
       "      <td>669</td>\n",
       "      <td>UK</td>\n",
       "      <td>London</td>\n",
       "      <td>burritos</td>\n",
       "      <td>2015-06-12 15:12:20.497925</td>\n",
       "      <td>2015-06-12 15:23:30.064683</td>\n",
       "    </tr>\n",
       "    <tr>\n",
       "      <th>4</th>\n",
       "      <td>2015-06-01 13:07:10.794050+01:00</td>\n",
       "      <td>2015-06-01 14:02:25.104517+01:00</td>\n",
       "      <td>56.30</td>\n",
       "      <td>255</td>\n",
       "      <td>7</td>\n",
       "      <td>3314</td>\n",
       "      <td>UK</td>\n",
       "      <td>London</td>\n",
       "      <td>chinese</td>\n",
       "      <td>2015-06-01 13:07:10.794050</td>\n",
       "      <td>2015-06-01 14:02:25.104517</td>\n",
       "    </tr>\n",
       "  </tbody>\n",
       "</table>\n",
       "</div>"
      ],
      "text/plain": [
       "              order_acknowledged_at                    order_ready_at  \\\n",
       "0  2015-06-01 12:28:28.952789+01:00  2015-06-01 14:12:09.474896+01:00   \n",
       "1  2015-06-06 17:06:24.434807+01:00  2015-06-06 17:16:27.520253+01:00   \n",
       "2  2015-06-08 14:56:15.503204+01:00  2015-06-08 15:03:39.397496+01:00   \n",
       "3  2015-06-12 15:12:20.497925+01:00  2015-06-12 15:23:30.064683+01:00   \n",
       "4  2015-06-01 13:07:10.794050+01:00  2015-06-01 14:02:25.104517+01:00   \n",
       "\n",
       "   order_value_gbp  restaurant_id  number_of_items  prep_time_seconds country  \\\n",
       "0            59.90           1326                2               6220      UK   \n",
       "1            24.00           1326                8                603      UK   \n",
       "2            15.25           1326                3                443      UK   \n",
       "3            28.05           1326                8                669      UK   \n",
       "4            56.30            255                7               3314      UK   \n",
       "\n",
       "     city type_of_food          acknowledged_time                 ready_time  \n",
       "0  London     burritos 2015-06-01 12:28:28.952789 2015-06-01 14:12:09.474896  \n",
       "1  London     burritos 2015-06-06 17:06:24.434807 2015-06-06 17:16:27.520253  \n",
       "2  London     burritos 2015-06-08 14:56:15.503204 2015-06-08 15:03:39.397496  \n",
       "3  London     burritos 2015-06-12 15:12:20.497925 2015-06-12 15:23:30.064683  \n",
       "4  London      chinese 2015-06-01 13:07:10.794050 2015-06-01 14:02:25.104517  "
      ]
     },
     "execution_count": 17,
     "metadata": {},
     "output_type": "execute_result"
    }
   ],
   "source": [
    "df_final.head()"
   ]
  },
  {
   "cell_type": "code",
   "execution_count": 18,
   "id": "c3d18d20",
   "metadata": {},
   "outputs": [],
   "source": [
    "#Drop columns : order_acknowledged_at, order_ready_at & restaurant_id\n",
    "df_final.drop(['order_acknowledged_at', 'order_ready_at', 'restaurant_id'], axis=1 , inplace=True)"
   ]
  },
  {
   "cell_type": "code",
   "execution_count": 19,
   "id": "0fb9cdc1",
   "metadata": {},
   "outputs": [
    {
     "name": "stdout",
     "output_type": "stream",
     "text": [
      "<class 'pandas.core.frame.DataFrame'>\n",
      "Int64Index: 32394 entries, 0 to 32393\n",
      "Data columns (total 8 columns):\n",
      " #   Column             Non-Null Count  Dtype         \n",
      "---  ------             --------------  -----         \n",
      " 0   order_value_gbp    32394 non-null  float64       \n",
      " 1   number_of_items    32394 non-null  int64         \n",
      " 2   prep_time_seconds  32394 non-null  int64         \n",
      " 3   country            32394 non-null  object        \n",
      " 4   city               32394 non-null  object        \n",
      " 5   type_of_food       32394 non-null  object        \n",
      " 6   acknowledged_time  32394 non-null  datetime64[ns]\n",
      " 7   ready_time         32394 non-null  datetime64[ns]\n",
      "dtypes: datetime64[ns](2), float64(1), int64(2), object(3)\n",
      "memory usage: 2.2+ MB\n"
     ]
    }
   ],
   "source": [
    "df_final.info()"
   ]
  },
  {
   "cell_type": "markdown",
   "id": "5d9777b9",
   "metadata": {},
   "source": [
    "# 2. Extract Year, Month & Weekday from acknowledged_time"
   ]
  },
  {
   "cell_type": "code",
   "execution_count": 20,
   "id": "a47b9bab",
   "metadata": {},
   "outputs": [],
   "source": [
    "df_final['order_year'] = df_final['acknowledged_time'].dt.year\n",
    "df_final['order_month'] = df_final['acknowledged_time'].dt.month\n",
    "df_final['order_Weekday'] = df_final['acknowledged_time'].apply(lambda time: time.day_name())"
   ]
  },
  {
   "cell_type": "code",
   "execution_count": 21,
   "id": "2dd605c8",
   "metadata": {},
   "outputs": [
    {
     "data": {
      "text/html": [
       "<div>\n",
       "<style scoped>\n",
       "    .dataframe tbody tr th:only-of-type {\n",
       "        vertical-align: middle;\n",
       "    }\n",
       "\n",
       "    .dataframe tbody tr th {\n",
       "        vertical-align: top;\n",
       "    }\n",
       "\n",
       "    .dataframe thead th {\n",
       "        text-align: right;\n",
       "    }\n",
       "</style>\n",
       "<table border=\"1\" class=\"dataframe\">\n",
       "  <thead>\n",
       "    <tr style=\"text-align: right;\">\n",
       "      <th></th>\n",
       "      <th>order_value_gbp</th>\n",
       "      <th>number_of_items</th>\n",
       "      <th>prep_time_seconds</th>\n",
       "      <th>country</th>\n",
       "      <th>city</th>\n",
       "      <th>type_of_food</th>\n",
       "      <th>acknowledged_time</th>\n",
       "      <th>ready_time</th>\n",
       "      <th>order_year</th>\n",
       "      <th>order_month</th>\n",
       "      <th>order_Weekday</th>\n",
       "    </tr>\n",
       "  </thead>\n",
       "  <tbody>\n",
       "    <tr>\n",
       "      <th>0</th>\n",
       "      <td>59.90</td>\n",
       "      <td>2</td>\n",
       "      <td>6220</td>\n",
       "      <td>UK</td>\n",
       "      <td>London</td>\n",
       "      <td>burritos</td>\n",
       "      <td>2015-06-01 12:28:28.952789</td>\n",
       "      <td>2015-06-01 14:12:09.474896</td>\n",
       "      <td>2015</td>\n",
       "      <td>6</td>\n",
       "      <td>Monday</td>\n",
       "    </tr>\n",
       "    <tr>\n",
       "      <th>1</th>\n",
       "      <td>24.00</td>\n",
       "      <td>8</td>\n",
       "      <td>603</td>\n",
       "      <td>UK</td>\n",
       "      <td>London</td>\n",
       "      <td>burritos</td>\n",
       "      <td>2015-06-06 17:06:24.434807</td>\n",
       "      <td>2015-06-06 17:16:27.520253</td>\n",
       "      <td>2015</td>\n",
       "      <td>6</td>\n",
       "      <td>Saturday</td>\n",
       "    </tr>\n",
       "    <tr>\n",
       "      <th>2</th>\n",
       "      <td>15.25</td>\n",
       "      <td>3</td>\n",
       "      <td>443</td>\n",
       "      <td>UK</td>\n",
       "      <td>London</td>\n",
       "      <td>burritos</td>\n",
       "      <td>2015-06-08 14:56:15.503204</td>\n",
       "      <td>2015-06-08 15:03:39.397496</td>\n",
       "      <td>2015</td>\n",
       "      <td>6</td>\n",
       "      <td>Monday</td>\n",
       "    </tr>\n",
       "    <tr>\n",
       "      <th>3</th>\n",
       "      <td>28.05</td>\n",
       "      <td>8</td>\n",
       "      <td>669</td>\n",
       "      <td>UK</td>\n",
       "      <td>London</td>\n",
       "      <td>burritos</td>\n",
       "      <td>2015-06-12 15:12:20.497925</td>\n",
       "      <td>2015-06-12 15:23:30.064683</td>\n",
       "      <td>2015</td>\n",
       "      <td>6</td>\n",
       "      <td>Friday</td>\n",
       "    </tr>\n",
       "    <tr>\n",
       "      <th>4</th>\n",
       "      <td>56.30</td>\n",
       "      <td>7</td>\n",
       "      <td>3314</td>\n",
       "      <td>UK</td>\n",
       "      <td>London</td>\n",
       "      <td>chinese</td>\n",
       "      <td>2015-06-01 13:07:10.794050</td>\n",
       "      <td>2015-06-01 14:02:25.104517</td>\n",
       "      <td>2015</td>\n",
       "      <td>6</td>\n",
       "      <td>Monday</td>\n",
       "    </tr>\n",
       "  </tbody>\n",
       "</table>\n",
       "</div>"
      ],
      "text/plain": [
       "   order_value_gbp  number_of_items  prep_time_seconds country    city  \\\n",
       "0            59.90                2               6220      UK  London   \n",
       "1            24.00                8                603      UK  London   \n",
       "2            15.25                3                443      UK  London   \n",
       "3            28.05                8                669      UK  London   \n",
       "4            56.30                7               3314      UK  London   \n",
       "\n",
       "  type_of_food          acknowledged_time                 ready_time  \\\n",
       "0     burritos 2015-06-01 12:28:28.952789 2015-06-01 14:12:09.474896   \n",
       "1     burritos 2015-06-06 17:06:24.434807 2015-06-06 17:16:27.520253   \n",
       "2     burritos 2015-06-08 14:56:15.503204 2015-06-08 15:03:39.397496   \n",
       "3     burritos 2015-06-12 15:12:20.497925 2015-06-12 15:23:30.064683   \n",
       "4      chinese 2015-06-01 13:07:10.794050 2015-06-01 14:02:25.104517   \n",
       "\n",
       "   order_year  order_month order_Weekday  \n",
       "0        2015            6        Monday  \n",
       "1        2015            6      Saturday  \n",
       "2        2015            6        Monday  \n",
       "3        2015            6        Friday  \n",
       "4        2015            6        Monday  "
      ]
     },
     "execution_count": 21,
     "metadata": {},
     "output_type": "execute_result"
    }
   ],
   "source": [
    "df_final.head()"
   ]
  },
  {
   "cell_type": "code",
   "execution_count": 22,
   "id": "f05f3c08",
   "metadata": {},
   "outputs": [],
   "source": [
    "df_final[\"prep_time_minutes\"] = df_final[\"prep_time_seconds\"]/60"
   ]
  },
  {
   "cell_type": "code",
   "execution_count": 23,
   "id": "32760bf0",
   "metadata": {},
   "outputs": [],
   "source": [
    "#Drop columns acknowledged_time & ready_time\n",
    "df_final.drop(['acknowledged_time', 'ready_time','prep_time_seconds'], axis=1 , inplace=True)"
   ]
  },
  {
   "cell_type": "code",
   "execution_count": 24,
   "id": "8a770932",
   "metadata": {},
   "outputs": [
    {
     "data": {
      "text/html": [
       "<div>\n",
       "<style scoped>\n",
       "    .dataframe tbody tr th:only-of-type {\n",
       "        vertical-align: middle;\n",
       "    }\n",
       "\n",
       "    .dataframe tbody tr th {\n",
       "        vertical-align: top;\n",
       "    }\n",
       "\n",
       "    .dataframe thead th {\n",
       "        text-align: right;\n",
       "    }\n",
       "</style>\n",
       "<table border=\"1\" class=\"dataframe\">\n",
       "  <thead>\n",
       "    <tr style=\"text-align: right;\">\n",
       "      <th></th>\n",
       "      <th>order_value_gbp</th>\n",
       "      <th>number_of_items</th>\n",
       "      <th>country</th>\n",
       "      <th>city</th>\n",
       "      <th>type_of_food</th>\n",
       "      <th>order_year</th>\n",
       "      <th>order_month</th>\n",
       "      <th>order_Weekday</th>\n",
       "      <th>prep_time_minutes</th>\n",
       "    </tr>\n",
       "  </thead>\n",
       "  <tbody>\n",
       "    <tr>\n",
       "      <th>0</th>\n",
       "      <td>59.90</td>\n",
       "      <td>2</td>\n",
       "      <td>UK</td>\n",
       "      <td>London</td>\n",
       "      <td>burritos</td>\n",
       "      <td>2015</td>\n",
       "      <td>6</td>\n",
       "      <td>Monday</td>\n",
       "      <td>103.666667</td>\n",
       "    </tr>\n",
       "    <tr>\n",
       "      <th>1</th>\n",
       "      <td>24.00</td>\n",
       "      <td>8</td>\n",
       "      <td>UK</td>\n",
       "      <td>London</td>\n",
       "      <td>burritos</td>\n",
       "      <td>2015</td>\n",
       "      <td>6</td>\n",
       "      <td>Saturday</td>\n",
       "      <td>10.050000</td>\n",
       "    </tr>\n",
       "    <tr>\n",
       "      <th>2</th>\n",
       "      <td>15.25</td>\n",
       "      <td>3</td>\n",
       "      <td>UK</td>\n",
       "      <td>London</td>\n",
       "      <td>burritos</td>\n",
       "      <td>2015</td>\n",
       "      <td>6</td>\n",
       "      <td>Monday</td>\n",
       "      <td>7.383333</td>\n",
       "    </tr>\n",
       "    <tr>\n",
       "      <th>3</th>\n",
       "      <td>28.05</td>\n",
       "      <td>8</td>\n",
       "      <td>UK</td>\n",
       "      <td>London</td>\n",
       "      <td>burritos</td>\n",
       "      <td>2015</td>\n",
       "      <td>6</td>\n",
       "      <td>Friday</td>\n",
       "      <td>11.150000</td>\n",
       "    </tr>\n",
       "    <tr>\n",
       "      <th>4</th>\n",
       "      <td>56.30</td>\n",
       "      <td>7</td>\n",
       "      <td>UK</td>\n",
       "      <td>London</td>\n",
       "      <td>chinese</td>\n",
       "      <td>2015</td>\n",
       "      <td>6</td>\n",
       "      <td>Monday</td>\n",
       "      <td>55.233333</td>\n",
       "    </tr>\n",
       "  </tbody>\n",
       "</table>\n",
       "</div>"
      ],
      "text/plain": [
       "   order_value_gbp  number_of_items country    city type_of_food  order_year  \\\n",
       "0            59.90                2      UK  London     burritos        2015   \n",
       "1            24.00                8      UK  London     burritos        2015   \n",
       "2            15.25                3      UK  London     burritos        2015   \n",
       "3            28.05                8      UK  London     burritos        2015   \n",
       "4            56.30                7      UK  London      chinese        2015   \n",
       "\n",
       "   order_month order_Weekday  prep_time_minutes  \n",
       "0            6        Monday         103.666667  \n",
       "1            6      Saturday          10.050000  \n",
       "2            6        Monday           7.383333  \n",
       "3            6        Friday          11.150000  \n",
       "4            6        Monday          55.233333  "
      ]
     },
     "execution_count": 24,
     "metadata": {},
     "output_type": "execute_result"
    }
   ],
   "source": [
    "df_final.head()"
   ]
  },
  {
   "cell_type": "markdown",
   "id": "82cb5e3e",
   "metadata": {},
   "source": [
    "# 2. Convert object datatype to category"
   ]
  },
  {
   "cell_type": "code",
   "execution_count": 25,
   "id": "c0d2bd98",
   "metadata": {},
   "outputs": [
    {
     "data": {
      "text/plain": [
       "order_value_gbp       float64\n",
       "number_of_items         int64\n",
       "country              category\n",
       "city                 category\n",
       "type_of_food         category\n",
       "order_year              int64\n",
       "order_month             int64\n",
       "order_Weekday        category\n",
       "prep_time_minutes     float64\n",
       "dtype: object"
      ]
     },
     "execution_count": 25,
     "metadata": {},
     "output_type": "execute_result"
    }
   ],
   "source": [
    "list_str_obj_cols = df_final.columns[df_final.dtypes == \"object\"].tolist()\n",
    "for col in list_str_obj_cols:\n",
    "    df_final[col] = df_final[col].astype(\"category\")\n",
    "df_final.dtypes"
   ]
  },
  {
   "cell_type": "code",
   "execution_count": 26,
   "id": "53a81f50",
   "metadata": {},
   "outputs": [],
   "source": [
    "df_final['order_year'] = df_final['order_year'].astype('category')\n",
    "df_final['order_month'] = df_final['order_month'].astype('category')"
   ]
  },
  {
   "cell_type": "code",
   "execution_count": 27,
   "id": "120522e1",
   "metadata": {},
   "outputs": [
    {
     "name": "stdout",
     "output_type": "stream",
     "text": [
      "<class 'pandas.core.frame.DataFrame'>\n",
      "Int64Index: 32394 entries, 0 to 32393\n",
      "Data columns (total 9 columns):\n",
      " #   Column             Non-Null Count  Dtype   \n",
      "---  ------             --------------  -----   \n",
      " 0   order_value_gbp    32394 non-null  float64 \n",
      " 1   number_of_items    32394 non-null  int64   \n",
      " 2   country            32394 non-null  category\n",
      " 3   city               32394 non-null  category\n",
      " 4   type_of_food       32394 non-null  category\n",
      " 5   order_year         32394 non-null  category\n",
      " 6   order_month        32394 non-null  category\n",
      " 7   order_Weekday      32394 non-null  category\n",
      " 8   prep_time_minutes  32394 non-null  float64 \n",
      "dtypes: category(6), float64(2), int64(1)\n",
      "memory usage: 1.2 MB\n"
     ]
    }
   ],
   "source": [
    "df_final.info()"
   ]
  },
  {
   "cell_type": "markdown",
   "id": "23ef042e",
   "metadata": {},
   "source": [
    "# Understand Data"
   ]
  },
  {
   "cell_type": "code",
   "execution_count": 28,
   "id": "e90b30fe",
   "metadata": {},
   "outputs": [
    {
     "data": {
      "text/plain": [
       "['UK', 'France', 'Ireland', 'Germany']\n",
       "Categories (4, object): ['France', 'Germany', 'Ireland', 'UK']"
      ]
     },
     "execution_count": 28,
     "metadata": {},
     "output_type": "execute_result"
    }
   ],
   "source": [
    "df_final.country.unique()"
   ]
  },
  {
   "cell_type": "code",
   "execution_count": 29,
   "id": "26f475e7",
   "metadata": {},
   "outputs": [
    {
     "data": {
      "text/plain": [
       "['London', 'Paris', 'Edinburgh', 'Manchester', 'Oxford', ..., 'München', 'Cheltenham', 'Cardiff', 'Leicester', 'Southampton']\n",
       "Length: 22\n",
       "Categories (22, object): ['Berlin', 'Birmingham', 'Brighton', 'Bristol', ..., 'Oxford', 'Paris', 'Reading', 'Southampton']"
      ]
     },
     "execution_count": 29,
     "metadata": {},
     "output_type": "execute_result"
    }
   ],
   "source": [
    "df_final.city.unique()"
   ]
  },
  {
   "cell_type": "code",
   "execution_count": 30,
   "id": "c09fafa5",
   "metadata": {},
   "outputs": [
    {
     "data": {
      "text/plain": [
       "['burritos', 'chinese', 'healthy', 'dessert', 'thai', ..., 'russian', 'steakhouse', 'south american', 'japanese peruvian', 'ice cream']\n",
       "Length: 83\n",
       "Categories (83, object): ['american', 'american / brunch', 'argentinian', 'asian fusion', ..., 'thaï / brunch', 'turkish', 'vegan', 'vietnamese']"
      ]
     },
     "execution_count": 30,
     "metadata": {},
     "output_type": "execute_result"
    }
   ],
   "source": [
    "df_final.type_of_food.unique()"
   ]
  },
  {
   "cell_type": "code",
   "execution_count": 31,
   "id": "c64ac3a4",
   "metadata": {},
   "outputs": [],
   "source": [
    "df_final.order_year.unique()\n",
    "#Drop column order_year as there is only 1 value in it\n",
    "df_final.drop('order_year', axis = 1, inplace = True)"
   ]
  },
  {
   "cell_type": "code",
   "execution_count": 32,
   "id": "d5b30f8b",
   "metadata": {},
   "outputs": [
    {
     "data": {
      "text/plain": [
       "['Monday', 'Saturday', 'Friday', 'Wednesday', 'Tuesday', 'Thursday', 'Sunday']\n",
       "Categories (7, object): ['Friday', 'Monday', 'Saturday', 'Sunday', 'Thursday', 'Tuesday', 'Wednesday']"
      ]
     },
     "execution_count": 32,
     "metadata": {},
     "output_type": "execute_result"
    }
   ],
   "source": [
    "df_final.order_Weekday.unique()"
   ]
  },
  {
   "cell_type": "code",
   "execution_count": 33,
   "id": "30623433",
   "metadata": {},
   "outputs": [
    {
     "data": {
      "text/plain": [
       "[6, 7]\n",
       "Categories (2, int64): [6, 7]"
      ]
     },
     "execution_count": 33,
     "metadata": {},
     "output_type": "execute_result"
    }
   ],
   "source": [
    "df_final.order_month.unique()"
   ]
  },
  {
   "cell_type": "code",
   "execution_count": 34,
   "id": "ab73e0d5",
   "metadata": {},
   "outputs": [
    {
     "data": {
      "text/plain": [
       "6    32390\n",
       "7        4\n",
       "Name: order_month, dtype: int64"
      ]
     },
     "execution_count": 34,
     "metadata": {},
     "output_type": "execute_result"
    }
   ],
   "source": [
    "df_final.order_month.value_counts()"
   ]
  },
  {
   "cell_type": "code",
   "execution_count": 35,
   "id": "accd2cec",
   "metadata": {},
   "outputs": [],
   "source": [
    "df_final.drop('order_month', axis = 1, inplace = True)"
   ]
  },
  {
   "cell_type": "code",
   "execution_count": 36,
   "id": "a3e00851",
   "metadata": {},
   "outputs": [
    {
     "name": "stdout",
     "output_type": "stream",
     "text": [
      "<class 'pandas.core.frame.DataFrame'>\n",
      "Int64Index: 32394 entries, 0 to 32393\n",
      "Data columns (total 7 columns):\n",
      " #   Column             Non-Null Count  Dtype   \n",
      "---  ------             --------------  -----   \n",
      " 0   order_value_gbp    32394 non-null  float64 \n",
      " 1   number_of_items    32394 non-null  int64   \n",
      " 2   country            32394 non-null  category\n",
      " 3   city               32394 non-null  category\n",
      " 4   type_of_food       32394 non-null  category\n",
      " 5   order_Weekday      32394 non-null  category\n",
      " 6   prep_time_minutes  32394 non-null  float64 \n",
      "dtypes: category(4), float64(2), int64(1)\n",
      "memory usage: 1.1 MB\n"
     ]
    }
   ],
   "source": [
    "df_final.info()\n",
    "#8 Columns"
   ]
  },
  {
   "cell_type": "code",
   "execution_count": 37,
   "id": "036298d3",
   "metadata": {},
   "outputs": [
    {
     "data": {
      "text/plain": [
       "103"
      ]
     },
     "execution_count": 37,
     "metadata": {},
     "output_type": "execute_result"
    }
   ],
   "source": [
    "df_final[df_final.prep_time_minutes == 0].shape[0]\n"
   ]
  },
  {
   "cell_type": "code",
   "execution_count": 38,
   "id": "2d8b76a0",
   "metadata": {},
   "outputs": [
    {
     "data": {
      "text/plain": [
       "10167"
      ]
     },
     "execution_count": 38,
     "metadata": {},
     "output_type": "execute_result"
    }
   ],
   "source": [
    "df_final[(df_final.prep_time_minutes > 0) & (df_final.prep_time_minutes <= 10) ].shape[0]"
   ]
  },
  {
   "cell_type": "code",
   "execution_count": 39,
   "id": "5906efbe",
   "metadata": {},
   "outputs": [
    {
     "data": {
      "text/plain": [
       "13613"
      ]
     },
     "execution_count": 39,
     "metadata": {},
     "output_type": "execute_result"
    }
   ],
   "source": [
    "df_final[(df_final.prep_time_minutes > 10) & (df_final.prep_time_minutes <= 20) ].shape[0]"
   ]
  },
  {
   "cell_type": "code",
   "execution_count": 40,
   "id": "dc07eb87",
   "metadata": {},
   "outputs": [
    {
     "data": {
      "text/plain": [
       "4915"
      ]
     },
     "execution_count": 40,
     "metadata": {},
     "output_type": "execute_result"
    }
   ],
   "source": [
    "df_final[(df_final.prep_time_minutes > 20) & (df_final.prep_time_minutes <= 30) ].shape[0]"
   ]
  },
  {
   "cell_type": "code",
   "execution_count": 41,
   "id": "213042c1",
   "metadata": {},
   "outputs": [
    {
     "data": {
      "text/plain": [
       "1274"
      ]
     },
     "execution_count": 41,
     "metadata": {},
     "output_type": "execute_result"
    }
   ],
   "source": [
    "df_final[(df_final.prep_time_minutes > 30) & (df_final.prep_time_minutes <= 40) ].shape[0]"
   ]
  },
  {
   "cell_type": "code",
   "execution_count": 42,
   "id": "6b5538ff",
   "metadata": {},
   "outputs": [
    {
     "data": {
      "text/plain": [
       "694"
      ]
     },
     "execution_count": 42,
     "metadata": {},
     "output_type": "execute_result"
    }
   ],
   "source": [
    "df_final[(df_final.prep_time_minutes > 40) & (df_final.prep_time_minutes <= 50) ].shape[0]"
   ]
  },
  {
   "cell_type": "code",
   "execution_count": 43,
   "id": "a1faf061",
   "metadata": {},
   "outputs": [
    {
     "data": {
      "text/plain": [
       "31240"
      ]
     },
     "execution_count": 43,
     "metadata": {},
     "output_type": "execute_result"
    }
   ],
   "source": [
    "df_final[(df_final.prep_time_minutes <= 60)].shape[0]\n",
    "#96% of the total data\n",
    "#Remove records with more than 60 minutes preparation time"
   ]
  },
  {
   "cell_type": "code",
   "execution_count": 44,
   "id": "e1de645a",
   "metadata": {},
   "outputs": [
    {
     "data": {
      "text/html": [
       "<div>\n",
       "<style scoped>\n",
       "    .dataframe tbody tr th:only-of-type {\n",
       "        vertical-align: middle;\n",
       "    }\n",
       "\n",
       "    .dataframe tbody tr th {\n",
       "        vertical-align: top;\n",
       "    }\n",
       "\n",
       "    .dataframe thead th {\n",
       "        text-align: right;\n",
       "    }\n",
       "</style>\n",
       "<table border=\"1\" class=\"dataframe\">\n",
       "  <thead>\n",
       "    <tr style=\"text-align: right;\">\n",
       "      <th></th>\n",
       "      <th>order_value_gbp</th>\n",
       "      <th>number_of_items</th>\n",
       "      <th>country</th>\n",
       "      <th>city</th>\n",
       "      <th>type_of_food</th>\n",
       "      <th>order_Weekday</th>\n",
       "      <th>prep_time_minutes</th>\n",
       "    </tr>\n",
       "  </thead>\n",
       "  <tbody>\n",
       "    <tr>\n",
       "      <th>1</th>\n",
       "      <td>24.00</td>\n",
       "      <td>8</td>\n",
       "      <td>UK</td>\n",
       "      <td>London</td>\n",
       "      <td>burritos</td>\n",
       "      <td>Saturday</td>\n",
       "      <td>10.050000</td>\n",
       "    </tr>\n",
       "    <tr>\n",
       "      <th>2</th>\n",
       "      <td>15.25</td>\n",
       "      <td>3</td>\n",
       "      <td>UK</td>\n",
       "      <td>London</td>\n",
       "      <td>burritos</td>\n",
       "      <td>Monday</td>\n",
       "      <td>7.383333</td>\n",
       "    </tr>\n",
       "    <tr>\n",
       "      <th>3</th>\n",
       "      <td>28.05</td>\n",
       "      <td>8</td>\n",
       "      <td>UK</td>\n",
       "      <td>London</td>\n",
       "      <td>burritos</td>\n",
       "      <td>Friday</td>\n",
       "      <td>11.150000</td>\n",
       "    </tr>\n",
       "    <tr>\n",
       "      <th>4</th>\n",
       "      <td>56.30</td>\n",
       "      <td>7</td>\n",
       "      <td>UK</td>\n",
       "      <td>London</td>\n",
       "      <td>chinese</td>\n",
       "      <td>Monday</td>\n",
       "      <td>55.233333</td>\n",
       "    </tr>\n",
       "    <tr>\n",
       "      <th>5</th>\n",
       "      <td>18.20</td>\n",
       "      <td>3</td>\n",
       "      <td>UK</td>\n",
       "      <td>London</td>\n",
       "      <td>chinese</td>\n",
       "      <td>Monday</td>\n",
       "      <td>17.483333</td>\n",
       "    </tr>\n",
       "  </tbody>\n",
       "</table>\n",
       "</div>"
      ],
      "text/plain": [
       "   order_value_gbp  number_of_items country    city type_of_food  \\\n",
       "1            24.00                8      UK  London     burritos   \n",
       "2            15.25                3      UK  London     burritos   \n",
       "3            28.05                8      UK  London     burritos   \n",
       "4            56.30                7      UK  London      chinese   \n",
       "5            18.20                3      UK  London      chinese   \n",
       "\n",
       "  order_Weekday  prep_time_minutes  \n",
       "1      Saturday          10.050000  \n",
       "2        Monday           7.383333  \n",
       "3        Friday          11.150000  \n",
       "4        Monday          55.233333  \n",
       "5        Monday          17.483333  "
      ]
     },
     "execution_count": 44,
     "metadata": {},
     "output_type": "execute_result"
    }
   ],
   "source": [
    "df_final = df_final[(df_final.prep_time_minutes <= 60)]\n",
    "df_final.head()"
   ]
  },
  {
   "cell_type": "code",
   "execution_count": 45,
   "id": "ba41257c",
   "metadata": {},
   "outputs": [
    {
     "name": "stdout",
     "output_type": "stream",
     "text": [
      "(31240, 7)\n"
     ]
    }
   ],
   "source": [
    "print(df_final.shape)"
   ]
  },
  {
   "cell_type": "markdown",
   "id": "bd1f8dd8",
   "metadata": {},
   "source": [
    "# <b><font color = blue>Exploratory Analysis"
   ]
  },
  {
   "cell_type": "markdown",
   "id": "fe23a3a7",
   "metadata": {},
   "source": [
    "# 1. Univariate Analysis "
   ]
  },
  {
   "cell_type": "code",
   "execution_count": 46,
   "id": "cab1bebc",
   "metadata": {},
   "outputs": [
    {
     "data": {
      "text/plain": [
       "<AxesSubplot:xlabel='number_of_items', ylabel='count'>"
      ]
     },
     "execution_count": 46,
     "metadata": {},
     "output_type": "execute_result"
    },
    {
     "data": {
      "image/png": "[encoded data removed]",
      "text/plain": [
       "<Figure size 640x480 with 1 Axes>"
      ]
     },
     "metadata": {},
     "output_type": "display_data"
    }
   ],
   "source": [
    "sns.countplot(x = df_final.number_of_items)"
   ]
  },
  {
   "cell_type": "code",
   "execution_count": 47,
   "id": "3c4674f3",
   "metadata": {},
   "outputs": [
    {
     "data": {
      "text/plain": [
       "order_value_gbp      105\n",
       "number_of_items      105\n",
       "country              105\n",
       "city                 105\n",
       "type_of_food         105\n",
       "order_Weekday        105\n",
       "prep_time_minutes    105\n",
       "dtype: int64"
      ]
     },
     "execution_count": 47,
     "metadata": {},
     "output_type": "execute_result"
    }
   ],
   "source": [
    "df_final[df_final[\"number_of_items\"] > 15].count()"
   ]
  },
  {
   "cell_type": "code",
   "execution_count": 48,
   "id": "4abfc7a3",
   "metadata": {},
   "outputs": [
    {
     "data": {
      "text/plain": [
       "order_value_gbp      8636\n",
       "number_of_items      8636\n",
       "country              8636\n",
       "city                 8636\n",
       "type_of_food         8636\n",
       "order_Weekday        8636\n",
       "prep_time_minutes    8636\n",
       "dtype: int64"
      ]
     },
     "execution_count": 48,
     "metadata": {},
     "output_type": "execute_result"
    }
   ],
   "source": [
    "df_final[df_final[\"number_of_items\"] == 3].count()"
   ]
  },
  {
   "cell_type": "code",
   "execution_count": 49,
   "id": "8f939881",
   "metadata": {},
   "outputs": [],
   "source": [
    "df_final = df_final[(df_final.number_of_items <= 15)]"
   ]
  },
  {
   "cell_type": "code",
   "execution_count": 50,
   "id": "455495fb",
   "metadata": {},
   "outputs": [
    {
     "data": {
      "text/plain": [
       "<AxesSubplot:xlabel='country', ylabel='count'>"
      ]
     },
     "execution_count": 50,
     "metadata": {},
     "output_type": "execute_result"
    },
    {
     "data": {
      "image/png": "[encoded data removed]",
      "text/plain": [
       "<Figure size 640x480 with 1 Axes>"
      ]
     },
     "metadata": {},
     "output_type": "display_data"
    }
   ],
   "source": [
    "sns.countplot(x = df_final.country)"
   ]
  },
  {
   "cell_type": "code",
   "execution_count": 51,
   "id": "db175252",
   "metadata": {},
   "outputs": [
    {
     "data": {
      "text/plain": [
       "UK         28505\n",
       "France      1975\n",
       "Ireland      341\n",
       "Germany      314\n",
       "Name: country, dtype: int64"
      ]
     },
     "execution_count": 51,
     "metadata": {},
     "output_type": "execute_result"
    }
   ],
   "source": [
    "df_final.country.value_counts()"
   ]
  },
  {
   "cell_type": "code",
   "execution_count": 52,
   "id": "61698761",
   "metadata": {},
   "outputs": [
    {
     "data": {
      "text/plain": [
       "<AxesSubplot:xlabel='count', ylabel='city'>"
      ]
     },
     "execution_count": 52,
     "metadata": {},
     "output_type": "execute_result"
    },
    {
     "data": {
      "image/png": "[encoded data removed]",
      "text/plain": [
       "<Figure size 640x480 with 1 Axes>"
      ]
     },
     "metadata": {},
     "output_type": "display_data"
    }
   ],
   "source": [
    "sns.countplot(y = df_final.city)"
   ]
  },
  {
   "cell_type": "code",
   "execution_count": 53,
   "id": "6b84c144",
   "metadata": {},
   "outputs": [
    {
     "data": {
      "text/plain": [
       "London         24530\n",
       "Paris           1975\n",
       "Manchester       913\n",
       "Brighton         629\n",
       "Oxford           521\n",
       "Edinburgh        405\n",
       "Dublin           341\n",
       "Berlin           292\n",
       "Birmingham       261\n",
       "Nottingham       214\n",
       "Leeds            214\n",
       "Glasgow          168\n",
       "Cambridge        165\n",
       "Liverpool        148\n",
       "Reading          122\n",
       "Guildford        107\n",
       "Bristol           82\n",
       "München           22\n",
       "Cheltenham        10\n",
       "Leicester          9\n",
       "Cardiff            5\n",
       "Southampton        2\n",
       "Name: city, dtype: int64"
      ]
     },
     "execution_count": 53,
     "metadata": {},
     "output_type": "execute_result"
    }
   ],
   "source": [
    "df_final.city.value_counts()"
   ]
  },
  {
   "cell_type": "code",
   "execution_count": 54,
   "id": "3a125b2d",
   "metadata": {},
   "outputs": [
    {
     "data": {
      "text/plain": [
       "<AxesSubplot:xlabel='order_Weekday', ylabel='count'>"
      ]
     },
     "execution_count": 54,
     "metadata": {},
     "output_type": "execute_result"
    },
    {
     "data": {
      "image/png": "[encoded data removed]",
      "text/plain": [
       "<Figure size 640x480 with 1 Axes>"
      ]
     },
     "metadata": {},
     "output_type": "display_data"
    }
   ],
   "source": [
    "sns.countplot(x = df_final.order_Weekday)\n",
    "#Most orders happen on Friday, Saturday, Sunday"
   ]
  },
  {
   "cell_type": "code",
   "execution_count": 55,
   "id": "51f618b2",
   "metadata": {
    "scrolled": false
   },
   "outputs": [
    {
     "data": {
      "image/png": "[encoded data removed]",
      "text/plain": [
       "<Figure size 2000x700 with 1 Axes>"
      ]
     },
     "metadata": {},
     "output_type": "display_data"
    }
   ],
   "source": [
    "import matplotlib.pyplot as plt\n",
    "plt.figure(figsize = (20,7))\n",
    "ax = sns.countplot(x = df_final.type_of_food)\n",
    "ax.set_xticklabels(ax.get_xticklabels(),rotation = 40, ha = \"right\")\n",
    "plt.tight_layout()\n",
    "plt.show()"
   ]
  },
  {
   "cell_type": "code",
   "execution_count": 56,
   "id": "52a02147",
   "metadata": {},
   "outputs": [
    {
     "data": {
      "text/plain": [
       "italian              4589\n",
       "burgers              3833\n",
       "thai                 2799\n",
       "american             2307\n",
       "japanese             1697\n",
       "                     ... \n",
       "french lebanese         2\n",
       "steakhouse              2\n",
       "thaï / brunch           2\n",
       "japanese peruvian       1\n",
       "soup                    1\n",
       "Name: type_of_food, Length: 83, dtype: int64"
      ]
     },
     "execution_count": 56,
     "metadata": {},
     "output_type": "execute_result"
    }
   ],
   "source": [
    "df_final.type_of_food.value_counts()"
   ]
  },
  {
   "cell_type": "markdown",
   "id": "89c31238",
   "metadata": {},
   "source": [
    "# 2. Bi-variate Analysis"
   ]
  },
  {
   "cell_type": "code",
   "execution_count": 57,
   "id": "f5a41717",
   "metadata": {},
   "outputs": [
    {
     "data": {
      "text/html": [
       "<div>\n",
       "<style scoped>\n",
       "    .dataframe tbody tr th:only-of-type {\n",
       "        vertical-align: middle;\n",
       "    }\n",
       "\n",
       "    .dataframe tbody tr th {\n",
       "        vertical-align: top;\n",
       "    }\n",
       "\n",
       "    .dataframe thead th {\n",
       "        text-align: right;\n",
       "    }\n",
       "</style>\n",
       "<table border=\"1\" class=\"dataframe\">\n",
       "  <thead>\n",
       "    <tr style=\"text-align: right;\">\n",
       "      <th>number_of_items</th>\n",
       "      <th>1</th>\n",
       "      <th>2</th>\n",
       "      <th>3</th>\n",
       "      <th>4</th>\n",
       "      <th>5</th>\n",
       "      <th>6</th>\n",
       "      <th>7</th>\n",
       "      <th>8</th>\n",
       "      <th>9</th>\n",
       "      <th>10</th>\n",
       "      <th>11</th>\n",
       "      <th>12</th>\n",
       "      <th>13</th>\n",
       "      <th>14</th>\n",
       "      <th>15</th>\n",
       "    </tr>\n",
       "    <tr>\n",
       "      <th>country</th>\n",
       "      <th></th>\n",
       "      <th></th>\n",
       "      <th></th>\n",
       "      <th></th>\n",
       "      <th></th>\n",
       "      <th></th>\n",
       "      <th></th>\n",
       "      <th></th>\n",
       "      <th></th>\n",
       "      <th></th>\n",
       "      <th></th>\n",
       "      <th></th>\n",
       "      <th></th>\n",
       "      <th></th>\n",
       "      <th></th>\n",
       "    </tr>\n",
       "  </thead>\n",
       "  <tbody>\n",
       "    <tr>\n",
       "      <th>France</th>\n",
       "      <td>193</td>\n",
       "      <td>523</td>\n",
       "      <td>499</td>\n",
       "      <td>350</td>\n",
       "      <td>157</td>\n",
       "      <td>102</td>\n",
       "      <td>53</td>\n",
       "      <td>29</td>\n",
       "      <td>28</td>\n",
       "      <td>13</td>\n",
       "      <td>10</td>\n",
       "      <td>8</td>\n",
       "      <td>4</td>\n",
       "      <td>6</td>\n",
       "      <td>0</td>\n",
       "    </tr>\n",
       "    <tr>\n",
       "      <th>Germany</th>\n",
       "      <td>15</td>\n",
       "      <td>89</td>\n",
       "      <td>100</td>\n",
       "      <td>52</td>\n",
       "      <td>25</td>\n",
       "      <td>16</td>\n",
       "      <td>8</td>\n",
       "      <td>5</td>\n",
       "      <td>2</td>\n",
       "      <td>2</td>\n",
       "      <td>0</td>\n",
       "      <td>0</td>\n",
       "      <td>0</td>\n",
       "      <td>0</td>\n",
       "      <td>0</td>\n",
       "    </tr>\n",
       "    <tr>\n",
       "      <th>Ireland</th>\n",
       "      <td>8</td>\n",
       "      <td>89</td>\n",
       "      <td>85</td>\n",
       "      <td>84</td>\n",
       "      <td>39</td>\n",
       "      <td>24</td>\n",
       "      <td>6</td>\n",
       "      <td>3</td>\n",
       "      <td>2</td>\n",
       "      <td>0</td>\n",
       "      <td>0</td>\n",
       "      <td>0</td>\n",
       "      <td>0</td>\n",
       "      <td>1</td>\n",
       "      <td>0</td>\n",
       "    </tr>\n",
       "    <tr>\n",
       "      <th>UK</th>\n",
       "      <td>1135</td>\n",
       "      <td>5419</td>\n",
       "      <td>7952</td>\n",
       "      <td>5684</td>\n",
       "      <td>3276</td>\n",
       "      <td>1999</td>\n",
       "      <td>1120</td>\n",
       "      <td>663</td>\n",
       "      <td>427</td>\n",
       "      <td>279</td>\n",
       "      <td>197</td>\n",
       "      <td>125</td>\n",
       "      <td>106</td>\n",
       "      <td>80</td>\n",
       "      <td>43</td>\n",
       "    </tr>\n",
       "  </tbody>\n",
       "</table>\n",
       "</div>"
      ],
      "text/plain": [
       "number_of_items    1     2     3     4     5     6     7    8    9    10   11  \\\n",
       "country                                                                         \n",
       "France            193   523   499   350   157   102    53   29   28   13   10   \n",
       "Germany            15    89   100    52    25    16     8    5    2    2    0   \n",
       "Ireland             8    89    85    84    39    24     6    3    2    0    0   \n",
       "UK               1135  5419  7952  5684  3276  1999  1120  663  427  279  197   \n",
       "\n",
       "number_of_items   12   13  14  15  \n",
       "country                            \n",
       "France             8    4   6   0  \n",
       "Germany            0    0   0   0  \n",
       "Ireland            0    0   1   0  \n",
       "UK               125  106  80  43  "
      ]
     },
     "execution_count": 57,
     "metadata": {},
     "output_type": "execute_result"
    }
   ],
   "source": [
    "pd.crosstab(df_final.country , df_final.number_of_items)"
   ]
  },
  {
   "cell_type": "code",
   "execution_count": 58,
   "id": "e3f7d81f",
   "metadata": {},
   "outputs": [
    {
     "data": {
      "text/html": [
       "<div>\n",
       "<style scoped>\n",
       "    .dataframe tbody tr th:only-of-type {\n",
       "        vertical-align: middle;\n",
       "    }\n",
       "\n",
       "    .dataframe tbody tr th {\n",
       "        vertical-align: top;\n",
       "    }\n",
       "\n",
       "    .dataframe thead th {\n",
       "        text-align: right;\n",
       "    }\n",
       "</style>\n",
       "<table border=\"1\" class=\"dataframe\">\n",
       "  <thead>\n",
       "    <tr style=\"text-align: right;\">\n",
       "      <th>number_of_items</th>\n",
       "      <th>1</th>\n",
       "      <th>2</th>\n",
       "      <th>3</th>\n",
       "      <th>4</th>\n",
       "      <th>5</th>\n",
       "      <th>6</th>\n",
       "      <th>7</th>\n",
       "      <th>8</th>\n",
       "      <th>9</th>\n",
       "      <th>10</th>\n",
       "      <th>11</th>\n",
       "      <th>12</th>\n",
       "      <th>13</th>\n",
       "      <th>14</th>\n",
       "      <th>15</th>\n",
       "    </tr>\n",
       "    <tr>\n",
       "      <th>order_Weekday</th>\n",
       "      <th></th>\n",
       "      <th></th>\n",
       "      <th></th>\n",
       "      <th></th>\n",
       "      <th></th>\n",
       "      <th></th>\n",
       "      <th></th>\n",
       "      <th></th>\n",
       "      <th></th>\n",
       "      <th></th>\n",
       "      <th></th>\n",
       "      <th></th>\n",
       "      <th></th>\n",
       "      <th></th>\n",
       "      <th></th>\n",
       "    </tr>\n",
       "  </thead>\n",
       "  <tbody>\n",
       "    <tr>\n",
       "      <th>Friday</th>\n",
       "      <td>196</td>\n",
       "      <td>883</td>\n",
       "      <td>1221</td>\n",
       "      <td>944</td>\n",
       "      <td>551</td>\n",
       "      <td>357</td>\n",
       "      <td>178</td>\n",
       "      <td>114</td>\n",
       "      <td>51</td>\n",
       "      <td>61</td>\n",
       "      <td>37</td>\n",
       "      <td>20</td>\n",
       "      <td>19</td>\n",
       "      <td>12</td>\n",
       "      <td>7</td>\n",
       "    </tr>\n",
       "    <tr>\n",
       "      <th>Monday</th>\n",
       "      <td>202</td>\n",
       "      <td>902</td>\n",
       "      <td>1315</td>\n",
       "      <td>878</td>\n",
       "      <td>489</td>\n",
       "      <td>247</td>\n",
       "      <td>146</td>\n",
       "      <td>98</td>\n",
       "      <td>59</td>\n",
       "      <td>27</td>\n",
       "      <td>44</td>\n",
       "      <td>16</td>\n",
       "      <td>21</td>\n",
       "      <td>18</td>\n",
       "      <td>6</td>\n",
       "    </tr>\n",
       "    <tr>\n",
       "      <th>Saturday</th>\n",
       "      <td>173</td>\n",
       "      <td>878</td>\n",
       "      <td>1265</td>\n",
       "      <td>998</td>\n",
       "      <td>560</td>\n",
       "      <td>370</td>\n",
       "      <td>213</td>\n",
       "      <td>117</td>\n",
       "      <td>79</td>\n",
       "      <td>43</td>\n",
       "      <td>34</td>\n",
       "      <td>20</td>\n",
       "      <td>15</td>\n",
       "      <td>9</td>\n",
       "      <td>0</td>\n",
       "    </tr>\n",
       "    <tr>\n",
       "      <th>Sunday</th>\n",
       "      <td>209</td>\n",
       "      <td>988</td>\n",
       "      <td>1446</td>\n",
       "      <td>1113</td>\n",
       "      <td>649</td>\n",
       "      <td>378</td>\n",
       "      <td>224</td>\n",
       "      <td>123</td>\n",
       "      <td>87</td>\n",
       "      <td>45</td>\n",
       "      <td>37</td>\n",
       "      <td>28</td>\n",
       "      <td>16</td>\n",
       "      <td>11</td>\n",
       "      <td>11</td>\n",
       "    </tr>\n",
       "    <tr>\n",
       "      <th>Thursday</th>\n",
       "      <td>161</td>\n",
       "      <td>725</td>\n",
       "      <td>1049</td>\n",
       "      <td>694</td>\n",
       "      <td>406</td>\n",
       "      <td>246</td>\n",
       "      <td>129</td>\n",
       "      <td>70</td>\n",
       "      <td>53</td>\n",
       "      <td>26</td>\n",
       "      <td>17</td>\n",
       "      <td>14</td>\n",
       "      <td>8</td>\n",
       "      <td>9</td>\n",
       "      <td>4</td>\n",
       "    </tr>\n",
       "    <tr>\n",
       "      <th>Tuesday</th>\n",
       "      <td>223</td>\n",
       "      <td>937</td>\n",
       "      <td>1264</td>\n",
       "      <td>835</td>\n",
       "      <td>482</td>\n",
       "      <td>303</td>\n",
       "      <td>165</td>\n",
       "      <td>102</td>\n",
       "      <td>78</td>\n",
       "      <td>49</td>\n",
       "      <td>23</td>\n",
       "      <td>20</td>\n",
       "      <td>21</td>\n",
       "      <td>15</td>\n",
       "      <td>9</td>\n",
       "    </tr>\n",
       "    <tr>\n",
       "      <th>Wednesday</th>\n",
       "      <td>187</td>\n",
       "      <td>807</td>\n",
       "      <td>1076</td>\n",
       "      <td>708</td>\n",
       "      <td>360</td>\n",
       "      <td>240</td>\n",
       "      <td>132</td>\n",
       "      <td>76</td>\n",
       "      <td>52</td>\n",
       "      <td>43</td>\n",
       "      <td>15</td>\n",
       "      <td>15</td>\n",
       "      <td>10</td>\n",
       "      <td>13</td>\n",
       "      <td>6</td>\n",
       "    </tr>\n",
       "  </tbody>\n",
       "</table>\n",
       "</div>"
      ],
      "text/plain": [
       "number_of_items   1    2     3     4    5    6    7    8   9   10  11  12  13  \\\n",
       "order_Weekday                                                                   \n",
       "Friday           196  883  1221   944  551  357  178  114  51  61  37  20  19   \n",
       "Monday           202  902  1315   878  489  247  146   98  59  27  44  16  21   \n",
       "Saturday         173  878  1265   998  560  370  213  117  79  43  34  20  15   \n",
       "Sunday           209  988  1446  1113  649  378  224  123  87  45  37  28  16   \n",
       "Thursday         161  725  1049   694  406  246  129   70  53  26  17  14   8   \n",
       "Tuesday          223  937  1264   835  482  303  165  102  78  49  23  20  21   \n",
       "Wednesday        187  807  1076   708  360  240  132   76  52  43  15  15  10   \n",
       "\n",
       "number_of_items  14  15  \n",
       "order_Weekday            \n",
       "Friday           12   7  \n",
       "Monday           18   6  \n",
       "Saturday          9   0  \n",
       "Sunday           11  11  \n",
       "Thursday          9   4  \n",
       "Tuesday          15   9  \n",
       "Wednesday        13   6  "
      ]
     },
     "execution_count": 58,
     "metadata": {},
     "output_type": "execute_result"
    }
   ],
   "source": [
    "pd.crosstab(df_final.order_Weekday , df_final.number_of_items)"
   ]
  },
  {
   "cell_type": "code",
   "execution_count": 59,
   "id": "6a01f6b0",
   "metadata": {},
   "outputs": [
    {
     "data": {
      "text/html": [
       "<div>\n",
       "<style scoped>\n",
       "    .dataframe tbody tr th:only-of-type {\n",
       "        vertical-align: middle;\n",
       "    }\n",
       "\n",
       "    .dataframe tbody tr th {\n",
       "        vertical-align: top;\n",
       "    }\n",
       "\n",
       "    .dataframe thead th {\n",
       "        text-align: right;\n",
       "    }\n",
       "</style>\n",
       "<table border=\"1\" class=\"dataframe\">\n",
       "  <thead>\n",
       "    <tr style=\"text-align: right;\">\n",
       "      <th>number_of_items</th>\n",
       "      <th>1</th>\n",
       "      <th>2</th>\n",
       "      <th>3</th>\n",
       "      <th>4</th>\n",
       "      <th>5</th>\n",
       "      <th>6</th>\n",
       "      <th>7</th>\n",
       "      <th>8</th>\n",
       "      <th>9</th>\n",
       "      <th>10</th>\n",
       "      <th>11</th>\n",
       "      <th>12</th>\n",
       "      <th>13</th>\n",
       "      <th>14</th>\n",
       "      <th>15</th>\n",
       "    </tr>\n",
       "    <tr>\n",
       "      <th>city</th>\n",
       "      <th></th>\n",
       "      <th></th>\n",
       "      <th></th>\n",
       "      <th></th>\n",
       "      <th></th>\n",
       "      <th></th>\n",
       "      <th></th>\n",
       "      <th></th>\n",
       "      <th></th>\n",
       "      <th></th>\n",
       "      <th></th>\n",
       "      <th></th>\n",
       "      <th></th>\n",
       "      <th></th>\n",
       "      <th></th>\n",
       "    </tr>\n",
       "  </thead>\n",
       "  <tbody>\n",
       "    <tr>\n",
       "      <th>Berlin</th>\n",
       "      <td>15</td>\n",
       "      <td>83</td>\n",
       "      <td>92</td>\n",
       "      <td>52</td>\n",
       "      <td>22</td>\n",
       "      <td>13</td>\n",
       "      <td>7</td>\n",
       "      <td>4</td>\n",
       "      <td>2</td>\n",
       "      <td>2</td>\n",
       "      <td>0</td>\n",
       "      <td>0</td>\n",
       "      <td>0</td>\n",
       "      <td>0</td>\n",
       "      <td>0</td>\n",
       "    </tr>\n",
       "    <tr>\n",
       "      <th>Birmingham</th>\n",
       "      <td>19</td>\n",
       "      <td>57</td>\n",
       "      <td>54</td>\n",
       "      <td>54</td>\n",
       "      <td>40</td>\n",
       "      <td>19</td>\n",
       "      <td>9</td>\n",
       "      <td>5</td>\n",
       "      <td>1</td>\n",
       "      <td>1</td>\n",
       "      <td>0</td>\n",
       "      <td>1</td>\n",
       "      <td>1</td>\n",
       "      <td>0</td>\n",
       "      <td>0</td>\n",
       "    </tr>\n",
       "    <tr>\n",
       "      <th>Brighton</th>\n",
       "      <td>28</td>\n",
       "      <td>111</td>\n",
       "      <td>210</td>\n",
       "      <td>131</td>\n",
       "      <td>77</td>\n",
       "      <td>34</td>\n",
       "      <td>23</td>\n",
       "      <td>5</td>\n",
       "      <td>3</td>\n",
       "      <td>4</td>\n",
       "      <td>2</td>\n",
       "      <td>0</td>\n",
       "      <td>1</td>\n",
       "      <td>0</td>\n",
       "      <td>0</td>\n",
       "    </tr>\n",
       "    <tr>\n",
       "      <th>Bristol</th>\n",
       "      <td>3</td>\n",
       "      <td>11</td>\n",
       "      <td>29</td>\n",
       "      <td>18</td>\n",
       "      <td>11</td>\n",
       "      <td>4</td>\n",
       "      <td>3</td>\n",
       "      <td>1</td>\n",
       "      <td>1</td>\n",
       "      <td>1</td>\n",
       "      <td>0</td>\n",
       "      <td>0</td>\n",
       "      <td>0</td>\n",
       "      <td>0</td>\n",
       "      <td>0</td>\n",
       "    </tr>\n",
       "    <tr>\n",
       "      <th>Cambridge</th>\n",
       "      <td>11</td>\n",
       "      <td>36</td>\n",
       "      <td>58</td>\n",
       "      <td>32</td>\n",
       "      <td>14</td>\n",
       "      <td>8</td>\n",
       "      <td>3</td>\n",
       "      <td>2</td>\n",
       "      <td>1</td>\n",
       "      <td>0</td>\n",
       "      <td>0</td>\n",
       "      <td>0</td>\n",
       "      <td>0</td>\n",
       "      <td>0</td>\n",
       "      <td>0</td>\n",
       "    </tr>\n",
       "    <tr>\n",
       "      <th>Cardiff</th>\n",
       "      <td>0</td>\n",
       "      <td>0</td>\n",
       "      <td>0</td>\n",
       "      <td>2</td>\n",
       "      <td>1</td>\n",
       "      <td>0</td>\n",
       "      <td>0</td>\n",
       "      <td>0</td>\n",
       "      <td>0</td>\n",
       "      <td>0</td>\n",
       "      <td>1</td>\n",
       "      <td>0</td>\n",
       "      <td>0</td>\n",
       "      <td>0</td>\n",
       "      <td>1</td>\n",
       "    </tr>\n",
       "    <tr>\n",
       "      <th>Cheltenham</th>\n",
       "      <td>0</td>\n",
       "      <td>3</td>\n",
       "      <td>6</td>\n",
       "      <td>0</td>\n",
       "      <td>0</td>\n",
       "      <td>0</td>\n",
       "      <td>0</td>\n",
       "      <td>0</td>\n",
       "      <td>1</td>\n",
       "      <td>0</td>\n",
       "      <td>0</td>\n",
       "      <td>0</td>\n",
       "      <td>0</td>\n",
       "      <td>0</td>\n",
       "      <td>0</td>\n",
       "    </tr>\n",
       "    <tr>\n",
       "      <th>Dublin</th>\n",
       "      <td>8</td>\n",
       "      <td>89</td>\n",
       "      <td>85</td>\n",
       "      <td>84</td>\n",
       "      <td>39</td>\n",
       "      <td>24</td>\n",
       "      <td>6</td>\n",
       "      <td>3</td>\n",
       "      <td>2</td>\n",
       "      <td>0</td>\n",
       "      <td>0</td>\n",
       "      <td>0</td>\n",
       "      <td>0</td>\n",
       "      <td>1</td>\n",
       "      <td>0</td>\n",
       "    </tr>\n",
       "    <tr>\n",
       "      <th>Edinburgh</th>\n",
       "      <td>21</td>\n",
       "      <td>54</td>\n",
       "      <td>110</td>\n",
       "      <td>85</td>\n",
       "      <td>51</td>\n",
       "      <td>30</td>\n",
       "      <td>11</td>\n",
       "      <td>20</td>\n",
       "      <td>15</td>\n",
       "      <td>3</td>\n",
       "      <td>3</td>\n",
       "      <td>1</td>\n",
       "      <td>0</td>\n",
       "      <td>1</td>\n",
       "      <td>0</td>\n",
       "    </tr>\n",
       "    <tr>\n",
       "      <th>Glasgow</th>\n",
       "      <td>6</td>\n",
       "      <td>24</td>\n",
       "      <td>36</td>\n",
       "      <td>49</td>\n",
       "      <td>30</td>\n",
       "      <td>13</td>\n",
       "      <td>8</td>\n",
       "      <td>1</td>\n",
       "      <td>1</td>\n",
       "      <td>0</td>\n",
       "      <td>0</td>\n",
       "      <td>0</td>\n",
       "      <td>0</td>\n",
       "      <td>0</td>\n",
       "      <td>0</td>\n",
       "    </tr>\n",
       "    <tr>\n",
       "      <th>Guildford</th>\n",
       "      <td>2</td>\n",
       "      <td>13</td>\n",
       "      <td>39</td>\n",
       "      <td>26</td>\n",
       "      <td>10</td>\n",
       "      <td>8</td>\n",
       "      <td>6</td>\n",
       "      <td>1</td>\n",
       "      <td>1</td>\n",
       "      <td>0</td>\n",
       "      <td>1</td>\n",
       "      <td>0</td>\n",
       "      <td>0</td>\n",
       "      <td>0</td>\n",
       "      <td>0</td>\n",
       "    </tr>\n",
       "    <tr>\n",
       "      <th>Leeds</th>\n",
       "      <td>7</td>\n",
       "      <td>24</td>\n",
       "      <td>64</td>\n",
       "      <td>44</td>\n",
       "      <td>28</td>\n",
       "      <td>21</td>\n",
       "      <td>4</td>\n",
       "      <td>7</td>\n",
       "      <td>3</td>\n",
       "      <td>6</td>\n",
       "      <td>2</td>\n",
       "      <td>1</td>\n",
       "      <td>1</td>\n",
       "      <td>2</td>\n",
       "      <td>0</td>\n",
       "    </tr>\n",
       "    <tr>\n",
       "      <th>Leicester</th>\n",
       "      <td>0</td>\n",
       "      <td>3</td>\n",
       "      <td>3</td>\n",
       "      <td>2</td>\n",
       "      <td>0</td>\n",
       "      <td>0</td>\n",
       "      <td>0</td>\n",
       "      <td>0</td>\n",
       "      <td>1</td>\n",
       "      <td>0</td>\n",
       "      <td>0</td>\n",
       "      <td>0</td>\n",
       "      <td>0</td>\n",
       "      <td>0</td>\n",
       "      <td>0</td>\n",
       "    </tr>\n",
       "    <tr>\n",
       "      <th>Liverpool</th>\n",
       "      <td>7</td>\n",
       "      <td>24</td>\n",
       "      <td>40</td>\n",
       "      <td>41</td>\n",
       "      <td>19</td>\n",
       "      <td>8</td>\n",
       "      <td>4</td>\n",
       "      <td>2</td>\n",
       "      <td>2</td>\n",
       "      <td>1</td>\n",
       "      <td>0</td>\n",
       "      <td>0</td>\n",
       "      <td>0</td>\n",
       "      <td>0</td>\n",
       "      <td>0</td>\n",
       "    </tr>\n",
       "    <tr>\n",
       "      <th>London</th>\n",
       "      <td>969</td>\n",
       "      <td>4728</td>\n",
       "      <td>6810</td>\n",
       "      <td>4794</td>\n",
       "      <td>2771</td>\n",
       "      <td>1739</td>\n",
       "      <td>979</td>\n",
       "      <td>581</td>\n",
       "      <td>379</td>\n",
       "      <td>257</td>\n",
       "      <td>183</td>\n",
       "      <td>118</td>\n",
       "      <td>103</td>\n",
       "      <td>77</td>\n",
       "      <td>42</td>\n",
       "    </tr>\n",
       "    <tr>\n",
       "      <th>Manchester</th>\n",
       "      <td>26</td>\n",
       "      <td>177</td>\n",
       "      <td>240</td>\n",
       "      <td>205</td>\n",
       "      <td>124</td>\n",
       "      <td>57</td>\n",
       "      <td>45</td>\n",
       "      <td>24</td>\n",
       "      <td>8</td>\n",
       "      <td>3</td>\n",
       "      <td>1</td>\n",
       "      <td>3</td>\n",
       "      <td>0</td>\n",
       "      <td>0</td>\n",
       "      <td>0</td>\n",
       "    </tr>\n",
       "    <tr>\n",
       "      <th>München</th>\n",
       "      <td>0</td>\n",
       "      <td>6</td>\n",
       "      <td>8</td>\n",
       "      <td>0</td>\n",
       "      <td>3</td>\n",
       "      <td>3</td>\n",
       "      <td>1</td>\n",
       "      <td>1</td>\n",
       "      <td>0</td>\n",
       "      <td>0</td>\n",
       "      <td>0</td>\n",
       "      <td>0</td>\n",
       "      <td>0</td>\n",
       "      <td>0</td>\n",
       "      <td>0</td>\n",
       "    </tr>\n",
       "    <tr>\n",
       "      <th>Nottingham</th>\n",
       "      <td>9</td>\n",
       "      <td>38</td>\n",
       "      <td>56</td>\n",
       "      <td>52</td>\n",
       "      <td>31</td>\n",
       "      <td>14</td>\n",
       "      <td>5</td>\n",
       "      <td>3</td>\n",
       "      <td>6</td>\n",
       "      <td>0</td>\n",
       "      <td>0</td>\n",
       "      <td>0</td>\n",
       "      <td>0</td>\n",
       "      <td>0</td>\n",
       "      <td>0</td>\n",
       "    </tr>\n",
       "    <tr>\n",
       "      <th>Oxford</th>\n",
       "      <td>22</td>\n",
       "      <td>88</td>\n",
       "      <td>162</td>\n",
       "      <td>124</td>\n",
       "      <td>60</td>\n",
       "      <td>35</td>\n",
       "      <td>13</td>\n",
       "      <td>8</td>\n",
       "      <td>4</td>\n",
       "      <td>2</td>\n",
       "      <td>2</td>\n",
       "      <td>1</td>\n",
       "      <td>0</td>\n",
       "      <td>0</td>\n",
       "      <td>0</td>\n",
       "    </tr>\n",
       "    <tr>\n",
       "      <th>Paris</th>\n",
       "      <td>193</td>\n",
       "      <td>523</td>\n",
       "      <td>499</td>\n",
       "      <td>350</td>\n",
       "      <td>157</td>\n",
       "      <td>102</td>\n",
       "      <td>53</td>\n",
       "      <td>29</td>\n",
       "      <td>28</td>\n",
       "      <td>13</td>\n",
       "      <td>10</td>\n",
       "      <td>8</td>\n",
       "      <td>4</td>\n",
       "      <td>6</td>\n",
       "      <td>0</td>\n",
       "    </tr>\n",
       "    <tr>\n",
       "      <th>Reading</th>\n",
       "      <td>5</td>\n",
       "      <td>28</td>\n",
       "      <td>35</td>\n",
       "      <td>24</td>\n",
       "      <td>9</td>\n",
       "      <td>9</td>\n",
       "      <td>6</td>\n",
       "      <td>3</td>\n",
       "      <td>0</td>\n",
       "      <td>1</td>\n",
       "      <td>2</td>\n",
       "      <td>0</td>\n",
       "      <td>0</td>\n",
       "      <td>0</td>\n",
       "      <td>0</td>\n",
       "    </tr>\n",
       "    <tr>\n",
       "      <th>Southampton</th>\n",
       "      <td>0</td>\n",
       "      <td>0</td>\n",
       "      <td>0</td>\n",
       "      <td>1</td>\n",
       "      <td>0</td>\n",
       "      <td>0</td>\n",
       "      <td>1</td>\n",
       "      <td>0</td>\n",
       "      <td>0</td>\n",
       "      <td>0</td>\n",
       "      <td>0</td>\n",
       "      <td>0</td>\n",
       "      <td>0</td>\n",
       "      <td>0</td>\n",
       "      <td>0</td>\n",
       "    </tr>\n",
       "  </tbody>\n",
       "</table>\n",
       "</div>"
      ],
      "text/plain": [
       "number_of_items   1     2     3     4     5     6    7    8    9    10   11  \\\n",
       "city                                                                          \n",
       "Berlin            15    83    92    52    22    13    7    4    2    2    0   \n",
       "Birmingham        19    57    54    54    40    19    9    5    1    1    0   \n",
       "Brighton          28   111   210   131    77    34   23    5    3    4    2   \n",
       "Bristol            3    11    29    18    11     4    3    1    1    1    0   \n",
       "Cambridge         11    36    58    32    14     8    3    2    1    0    0   \n",
       "Cardiff            0     0     0     2     1     0    0    0    0    0    1   \n",
       "Cheltenham         0     3     6     0     0     0    0    0    1    0    0   \n",
       "Dublin             8    89    85    84    39    24    6    3    2    0    0   \n",
       "Edinburgh         21    54   110    85    51    30   11   20   15    3    3   \n",
       "Glasgow            6    24    36    49    30    13    8    1    1    0    0   \n",
       "Guildford          2    13    39    26    10     8    6    1    1    0    1   \n",
       "Leeds              7    24    64    44    28    21    4    7    3    6    2   \n",
       "Leicester          0     3     3     2     0     0    0    0    1    0    0   \n",
       "Liverpool          7    24    40    41    19     8    4    2    2    1    0   \n",
       "London           969  4728  6810  4794  2771  1739  979  581  379  257  183   \n",
       "Manchester        26   177   240   205   124    57   45   24    8    3    1   \n",
       "München            0     6     8     0     3     3    1    1    0    0    0   \n",
       "Nottingham         9    38    56    52    31    14    5    3    6    0    0   \n",
       "Oxford            22    88   162   124    60    35   13    8    4    2    2   \n",
       "Paris            193   523   499   350   157   102   53   29   28   13   10   \n",
       "Reading            5    28    35    24     9     9    6    3    0    1    2   \n",
       "Southampton        0     0     0     1     0     0    1    0    0    0    0   \n",
       "\n",
       "number_of_items   12   13  14  15  \n",
       "city                               \n",
       "Berlin             0    0   0   0  \n",
       "Birmingham         1    1   0   0  \n",
       "Brighton           0    1   0   0  \n",
       "Bristol            0    0   0   0  \n",
       "Cambridge          0    0   0   0  \n",
       "Cardiff            0    0   0   1  \n",
       "Cheltenham         0    0   0   0  \n",
       "Dublin             0    0   1   0  \n",
       "Edinburgh          1    0   1   0  \n",
       "Glasgow            0    0   0   0  \n",
       "Guildford          0    0   0   0  \n",
       "Leeds              1    1   2   0  \n",
       "Leicester          0    0   0   0  \n",
       "Liverpool          0    0   0   0  \n",
       "London           118  103  77  42  \n",
       "Manchester         3    0   0   0  \n",
       "München            0    0   0   0  \n",
       "Nottingham         0    0   0   0  \n",
       "Oxford             1    0   0   0  \n",
       "Paris              8    4   6   0  \n",
       "Reading            0    0   0   0  \n",
       "Southampton        0    0   0   0  "
      ]
     },
     "execution_count": 59,
     "metadata": {},
     "output_type": "execute_result"
    }
   ],
   "source": [
    "pd.crosstab(df_final.city , df_final.number_of_items)"
   ]
  },
  {
   "cell_type": "code",
   "execution_count": 60,
   "id": "52c2d5ed",
   "metadata": {},
   "outputs": [
    {
     "data": {
      "text/html": [
       "<div>\n",
       "<style scoped>\n",
       "    .dataframe tbody tr th:only-of-type {\n",
       "        vertical-align: middle;\n",
       "    }\n",
       "\n",
       "    .dataframe tbody tr th {\n",
       "        vertical-align: top;\n",
       "    }\n",
       "\n",
       "    .dataframe thead th {\n",
       "        text-align: right;\n",
       "    }\n",
       "</style>\n",
       "<table border=\"1\" class=\"dataframe\">\n",
       "  <thead>\n",
       "    <tr style=\"text-align: right;\">\n",
       "      <th>number_of_items</th>\n",
       "      <th>1</th>\n",
       "      <th>2</th>\n",
       "      <th>3</th>\n",
       "      <th>4</th>\n",
       "      <th>5</th>\n",
       "      <th>6</th>\n",
       "      <th>7</th>\n",
       "      <th>8</th>\n",
       "      <th>9</th>\n",
       "      <th>10</th>\n",
       "      <th>11</th>\n",
       "      <th>12</th>\n",
       "      <th>13</th>\n",
       "      <th>14</th>\n",
       "      <th>15</th>\n",
       "    </tr>\n",
       "    <tr>\n",
       "      <th>type_of_food</th>\n",
       "      <th></th>\n",
       "      <th></th>\n",
       "      <th></th>\n",
       "      <th></th>\n",
       "      <th></th>\n",
       "      <th></th>\n",
       "      <th></th>\n",
       "      <th></th>\n",
       "      <th></th>\n",
       "      <th></th>\n",
       "      <th></th>\n",
       "      <th></th>\n",
       "      <th></th>\n",
       "      <th></th>\n",
       "      <th></th>\n",
       "    </tr>\n",
       "  </thead>\n",
       "  <tbody>\n",
       "    <tr>\n",
       "      <th>american</th>\n",
       "      <td>92</td>\n",
       "      <td>415</td>\n",
       "      <td>742</td>\n",
       "      <td>486</td>\n",
       "      <td>289</td>\n",
       "      <td>142</td>\n",
       "      <td>63</td>\n",
       "      <td>30</td>\n",
       "      <td>15</td>\n",
       "      <td>14</td>\n",
       "      <td>6</td>\n",
       "      <td>8</td>\n",
       "      <td>4</td>\n",
       "      <td>1</td>\n",
       "      <td>0</td>\n",
       "    </tr>\n",
       "    <tr>\n",
       "      <th>american / brunch</th>\n",
       "      <td>3</td>\n",
       "      <td>10</td>\n",
       "      <td>12</td>\n",
       "      <td>1</td>\n",
       "      <td>1</td>\n",
       "      <td>0</td>\n",
       "      <td>0</td>\n",
       "      <td>0</td>\n",
       "      <td>0</td>\n",
       "      <td>0</td>\n",
       "      <td>0</td>\n",
       "      <td>0</td>\n",
       "      <td>0</td>\n",
       "      <td>0</td>\n",
       "      <td>0</td>\n",
       "    </tr>\n",
       "    <tr>\n",
       "      <th>argentinian</th>\n",
       "      <td>11</td>\n",
       "      <td>47</td>\n",
       "      <td>86</td>\n",
       "      <td>38</td>\n",
       "      <td>49</td>\n",
       "      <td>20</td>\n",
       "      <td>19</td>\n",
       "      <td>8</td>\n",
       "      <td>4</td>\n",
       "      <td>2</td>\n",
       "      <td>3</td>\n",
       "      <td>0</td>\n",
       "      <td>1</td>\n",
       "      <td>0</td>\n",
       "      <td>0</td>\n",
       "    </tr>\n",
       "    <tr>\n",
       "      <th>asian fusion</th>\n",
       "      <td>0</td>\n",
       "      <td>1</td>\n",
       "      <td>1</td>\n",
       "      <td>1</td>\n",
       "      <td>0</td>\n",
       "      <td>0</td>\n",
       "      <td>0</td>\n",
       "      <td>0</td>\n",
       "      <td>0</td>\n",
       "      <td>0</td>\n",
       "      <td>0</td>\n",
       "      <td>0</td>\n",
       "      <td>0</td>\n",
       "      <td>0</td>\n",
       "      <td>0</td>\n",
       "    </tr>\n",
       "    <tr>\n",
       "      <th>australian</th>\n",
       "      <td>5</td>\n",
       "      <td>13</td>\n",
       "      <td>31</td>\n",
       "      <td>33</td>\n",
       "      <td>16</td>\n",
       "      <td>6</td>\n",
       "      <td>1</td>\n",
       "      <td>0</td>\n",
       "      <td>0</td>\n",
       "      <td>1</td>\n",
       "      <td>0</td>\n",
       "      <td>0</td>\n",
       "      <td>0</td>\n",
       "      <td>0</td>\n",
       "      <td>0</td>\n",
       "    </tr>\n",
       "    <tr>\n",
       "      <th>...</th>\n",
       "      <td>...</td>\n",
       "      <td>...</td>\n",
       "      <td>...</td>\n",
       "      <td>...</td>\n",
       "      <td>...</td>\n",
       "      <td>...</td>\n",
       "      <td>...</td>\n",
       "      <td>...</td>\n",
       "      <td>...</td>\n",
       "      <td>...</td>\n",
       "      <td>...</td>\n",
       "      <td>...</td>\n",
       "      <td>...</td>\n",
       "      <td>...</td>\n",
       "      <td>...</td>\n",
       "    </tr>\n",
       "    <tr>\n",
       "      <th>thai</th>\n",
       "      <td>90</td>\n",
       "      <td>503</td>\n",
       "      <td>800</td>\n",
       "      <td>621</td>\n",
       "      <td>376</td>\n",
       "      <td>185</td>\n",
       "      <td>92</td>\n",
       "      <td>58</td>\n",
       "      <td>27</td>\n",
       "      <td>15</td>\n",
       "      <td>19</td>\n",
       "      <td>5</td>\n",
       "      <td>6</td>\n",
       "      <td>1</td>\n",
       "      <td>1</td>\n",
       "    </tr>\n",
       "    <tr>\n",
       "      <th>thaï / brunch</th>\n",
       "      <td>0</td>\n",
       "      <td>0</td>\n",
       "      <td>1</td>\n",
       "      <td>1</td>\n",
       "      <td>0</td>\n",
       "      <td>0</td>\n",
       "      <td>0</td>\n",
       "      <td>0</td>\n",
       "      <td>0</td>\n",
       "      <td>0</td>\n",
       "      <td>0</td>\n",
       "      <td>0</td>\n",
       "      <td>0</td>\n",
       "      <td>0</td>\n",
       "      <td>0</td>\n",
       "    </tr>\n",
       "    <tr>\n",
       "      <th>turkish</th>\n",
       "      <td>20</td>\n",
       "      <td>71</td>\n",
       "      <td>123</td>\n",
       "      <td>53</td>\n",
       "      <td>30</td>\n",
       "      <td>29</td>\n",
       "      <td>9</td>\n",
       "      <td>4</td>\n",
       "      <td>5</td>\n",
       "      <td>1</td>\n",
       "      <td>4</td>\n",
       "      <td>1</td>\n",
       "      <td>1</td>\n",
       "      <td>1</td>\n",
       "      <td>0</td>\n",
       "    </tr>\n",
       "    <tr>\n",
       "      <th>vegan</th>\n",
       "      <td>0</td>\n",
       "      <td>4</td>\n",
       "      <td>10</td>\n",
       "      <td>10</td>\n",
       "      <td>1</td>\n",
       "      <td>3</td>\n",
       "      <td>1</td>\n",
       "      <td>1</td>\n",
       "      <td>0</td>\n",
       "      <td>0</td>\n",
       "      <td>0</td>\n",
       "      <td>0</td>\n",
       "      <td>0</td>\n",
       "      <td>0</td>\n",
       "      <td>0</td>\n",
       "    </tr>\n",
       "    <tr>\n",
       "      <th>vietnamese</th>\n",
       "      <td>49</td>\n",
       "      <td>195</td>\n",
       "      <td>383</td>\n",
       "      <td>247</td>\n",
       "      <td>118</td>\n",
       "      <td>59</td>\n",
       "      <td>29</td>\n",
       "      <td>17</td>\n",
       "      <td>9</td>\n",
       "      <td>3</td>\n",
       "      <td>0</td>\n",
       "      <td>3</td>\n",
       "      <td>0</td>\n",
       "      <td>0</td>\n",
       "      <td>0</td>\n",
       "    </tr>\n",
       "  </tbody>\n",
       "</table>\n",
       "<p>83 rows × 15 columns</p>\n",
       "</div>"
      ],
      "text/plain": [
       "number_of_items    1    2    3    4    5    6   7   8   9   10  11  12  13  \\\n",
       "type_of_food                                                                 \n",
       "american           92  415  742  486  289  142  63  30  15  14   6   8   4   \n",
       "american / brunch   3   10   12    1    1    0   0   0   0   0   0   0   0   \n",
       "argentinian        11   47   86   38   49   20  19   8   4   2   3   0   1   \n",
       "asian fusion        0    1    1    1    0    0   0   0   0   0   0   0   0   \n",
       "australian          5   13   31   33   16    6   1   0   0   1   0   0   0   \n",
       "...                ..  ...  ...  ...  ...  ...  ..  ..  ..  ..  ..  ..  ..   \n",
       "thai               90  503  800  621  376  185  92  58  27  15  19   5   6   \n",
       "thaï / brunch       0    0    1    1    0    0   0   0   0   0   0   0   0   \n",
       "turkish            20   71  123   53   30   29   9   4   5   1   4   1   1   \n",
       "vegan               0    4   10   10    1    3   1   1   0   0   0   0   0   \n",
       "vietnamese         49  195  383  247  118   59  29  17   9   3   0   3   0   \n",
       "\n",
       "number_of_items    14  15  \n",
       "type_of_food               \n",
       "american            1   0  \n",
       "american / brunch   0   0  \n",
       "argentinian         0   0  \n",
       "asian fusion        0   0  \n",
       "australian          0   0  \n",
       "...                ..  ..  \n",
       "thai                1   1  \n",
       "thaï / brunch       0   0  \n",
       "turkish             1   0  \n",
       "vegan               0   0  \n",
       "vietnamese          0   0  \n",
       "\n",
       "[83 rows x 15 columns]"
      ]
     },
     "execution_count": 60,
     "metadata": {},
     "output_type": "execute_result"
    }
   ],
   "source": [
    "pd.crosstab(df_final.type_of_food , df_final.number_of_items)"
   ]
  },
  {
   "cell_type": "code",
   "execution_count": 61,
   "id": "cdc2d56d",
   "metadata": {},
   "outputs": [
    {
     "data": {
      "text/html": [
       "<div>\n",
       "<style scoped>\n",
       "    .dataframe tbody tr th:only-of-type {\n",
       "        vertical-align: middle;\n",
       "    }\n",
       "\n",
       "    .dataframe tbody tr th {\n",
       "        vertical-align: top;\n",
       "    }\n",
       "\n",
       "    .dataframe thead th {\n",
       "        text-align: right;\n",
       "    }\n",
       "</style>\n",
       "<table border=\"1\" class=\"dataframe\">\n",
       "  <thead>\n",
       "    <tr style=\"text-align: right;\">\n",
       "      <th></th>\n",
       "      <th>order_value_gbp</th>\n",
       "      <th>number_of_items</th>\n",
       "      <th>country</th>\n",
       "      <th>city</th>\n",
       "      <th>type_of_food</th>\n",
       "      <th>order_Weekday</th>\n",
       "      <th>prep_time_minutes</th>\n",
       "      <th>prep_bin</th>\n",
       "    </tr>\n",
       "  </thead>\n",
       "  <tbody>\n",
       "    <tr>\n",
       "      <th>1</th>\n",
       "      <td>24.00</td>\n",
       "      <td>8</td>\n",
       "      <td>UK</td>\n",
       "      <td>London</td>\n",
       "      <td>burritos</td>\n",
       "      <td>Saturday</td>\n",
       "      <td>10.050000</td>\n",
       "      <td>bin_10_20</td>\n",
       "    </tr>\n",
       "    <tr>\n",
       "      <th>2</th>\n",
       "      <td>15.25</td>\n",
       "      <td>3</td>\n",
       "      <td>UK</td>\n",
       "      <td>London</td>\n",
       "      <td>burritos</td>\n",
       "      <td>Monday</td>\n",
       "      <td>7.383333</td>\n",
       "      <td>bin_5_10</td>\n",
       "    </tr>\n",
       "    <tr>\n",
       "      <th>3</th>\n",
       "      <td>28.05</td>\n",
       "      <td>8</td>\n",
       "      <td>UK</td>\n",
       "      <td>London</td>\n",
       "      <td>burritos</td>\n",
       "      <td>Friday</td>\n",
       "      <td>11.150000</td>\n",
       "      <td>bin_10_20</td>\n",
       "    </tr>\n",
       "    <tr>\n",
       "      <th>4</th>\n",
       "      <td>56.30</td>\n",
       "      <td>7</td>\n",
       "      <td>UK</td>\n",
       "      <td>London</td>\n",
       "      <td>chinese</td>\n",
       "      <td>Monday</td>\n",
       "      <td>55.233333</td>\n",
       "      <td>bin_50_60</td>\n",
       "    </tr>\n",
       "    <tr>\n",
       "      <th>5</th>\n",
       "      <td>18.20</td>\n",
       "      <td>3</td>\n",
       "      <td>UK</td>\n",
       "      <td>London</td>\n",
       "      <td>chinese</td>\n",
       "      <td>Monday</td>\n",
       "      <td>17.483333</td>\n",
       "      <td>bin_10_20</td>\n",
       "    </tr>\n",
       "  </tbody>\n",
       "</table>\n",
       "</div>"
      ],
      "text/plain": [
       "   order_value_gbp  number_of_items country    city type_of_food  \\\n",
       "1            24.00                8      UK  London     burritos   \n",
       "2            15.25                3      UK  London     burritos   \n",
       "3            28.05                8      UK  London     burritos   \n",
       "4            56.30                7      UK  London      chinese   \n",
       "5            18.20                3      UK  London      chinese   \n",
       "\n",
       "  order_Weekday  prep_time_minutes   prep_bin  \n",
       "1      Saturday          10.050000  bin_10_20  \n",
       "2        Monday           7.383333   bin_5_10  \n",
       "3        Friday          11.150000  bin_10_20  \n",
       "4        Monday          55.233333  bin_50_60  \n",
       "5        Monday          17.483333  bin_10_20  "
      ]
     },
     "execution_count": 61,
     "metadata": {},
     "output_type": "execute_result"
    }
   ],
   "source": [
    "conditions = [\n",
    "    (df_final['prep_time_minutes'] < 1),\n",
    "    ((df_final['prep_time_minutes'] >= 1) & (df_final['prep_time_minutes'] <= 5)),\n",
    "    ((df_final['prep_time_minutes'] > 5) & (df_final['prep_time_minutes'] <= 10)),\n",
    "    ((df_final['prep_time_minutes'] > 10) & (df_final['prep_time_minutes'] <= 20)),\n",
    "    ((df_final['prep_time_minutes'] > 20) & (df_final['prep_time_minutes'] <= 30)),\n",
    "    ((df_final['prep_time_minutes'] > 30) & (df_final['prep_time_minutes'] <= 40)),\n",
    "    ((df_final['prep_time_minutes'] > 40) & (df_final['prep_time_minutes']<= 50)),\n",
    "    ((df_final['prep_time_minutes'] > 50))]\n",
    "\n",
    "values = ['bin_0', 'bin_1_5', 'bin_5_10', 'bin_10_20', 'bin_20_30', 'bin_30_40', 'bin_40_50', 'bin_50_60']\n",
    "df_final['prep_bin'] = np.select(conditions, values)\n",
    "df_final.head()"
   ]
  },
  {
   "cell_type": "code",
   "execution_count": 62,
   "id": "3bade080",
   "metadata": {},
   "outputs": [
    {
     "data": {
      "text/html": [
       "<div>\n",
       "<style scoped>\n",
       "    .dataframe tbody tr th:only-of-type {\n",
       "        vertical-align: middle;\n",
       "    }\n",
       "\n",
       "    .dataframe tbody tr th {\n",
       "        vertical-align: top;\n",
       "    }\n",
       "\n",
       "    .dataframe thead th {\n",
       "        text-align: right;\n",
       "    }\n",
       "</style>\n",
       "<table border=\"1\" class=\"dataframe\">\n",
       "  <thead>\n",
       "    <tr style=\"text-align: right;\">\n",
       "      <th>prep_bin</th>\n",
       "      <th>bin_0</th>\n",
       "      <th>bin_10_20</th>\n",
       "      <th>bin_1_5</th>\n",
       "      <th>bin_20_30</th>\n",
       "      <th>bin_30_40</th>\n",
       "      <th>bin_40_50</th>\n",
       "      <th>bin_50_60</th>\n",
       "      <th>bin_5_10</th>\n",
       "    </tr>\n",
       "    <tr>\n",
       "      <th>country</th>\n",
       "      <th></th>\n",
       "      <th></th>\n",
       "      <th></th>\n",
       "      <th></th>\n",
       "      <th></th>\n",
       "      <th></th>\n",
       "      <th></th>\n",
       "      <th></th>\n",
       "    </tr>\n",
       "  </thead>\n",
       "  <tbody>\n",
       "    <tr>\n",
       "      <th>France</th>\n",
       "      <td>478</td>\n",
       "      <td>300</td>\n",
       "      <td>606</td>\n",
       "      <td>99</td>\n",
       "      <td>45</td>\n",
       "      <td>29</td>\n",
       "      <td>20</td>\n",
       "      <td>398</td>\n",
       "    </tr>\n",
       "    <tr>\n",
       "      <th>Germany</th>\n",
       "      <td>3</td>\n",
       "      <td>145</td>\n",
       "      <td>23</td>\n",
       "      <td>41</td>\n",
       "      <td>10</td>\n",
       "      <td>8</td>\n",
       "      <td>5</td>\n",
       "      <td>79</td>\n",
       "    </tr>\n",
       "    <tr>\n",
       "      <th>Ireland</th>\n",
       "      <td>4</td>\n",
       "      <td>136</td>\n",
       "      <td>26</td>\n",
       "      <td>78</td>\n",
       "      <td>13</td>\n",
       "      <td>6</td>\n",
       "      <td>7</td>\n",
       "      <td>71</td>\n",
       "    </tr>\n",
       "    <tr>\n",
       "      <th>UK</th>\n",
       "      <td>630</td>\n",
       "      <td>13003</td>\n",
       "      <td>1915</td>\n",
       "      <td>4673</td>\n",
       "      <td>1190</td>\n",
       "      <td>640</td>\n",
       "      <td>435</td>\n",
       "      <td>6019</td>\n",
       "    </tr>\n",
       "  </tbody>\n",
       "</table>\n",
       "</div>"
      ],
      "text/plain": [
       "prep_bin  bin_0  bin_10_20  bin_1_5  bin_20_30  bin_30_40  bin_40_50  \\\n",
       "country                                                                \n",
       "France      478        300      606         99         45         29   \n",
       "Germany       3        145       23         41         10          8   \n",
       "Ireland       4        136       26         78         13          6   \n",
       "UK          630      13003     1915       4673       1190        640   \n",
       "\n",
       "prep_bin  bin_50_60  bin_5_10  \n",
       "country                        \n",
       "France           20       398  \n",
       "Germany           5        79  \n",
       "Ireland           7        71  \n",
       "UK              435      6019  "
      ]
     },
     "execution_count": 62,
     "metadata": {},
     "output_type": "execute_result"
    }
   ],
   "source": [
    "pd.crosstab(df_final.country , df_final.prep_bin)"
   ]
  },
  {
   "cell_type": "code",
   "execution_count": 63,
   "id": "bc086edc",
   "metadata": {},
   "outputs": [],
   "source": [
    "df_final.drop(['order_Weekday'], axis =1 , inplace = True)"
   ]
  },
  {
   "cell_type": "code",
   "execution_count": 65,
   "id": "e3484f4f",
   "metadata": {},
   "outputs": [
    {
     "data": {
      "text/plain": [
       "<AxesSubplot:xlabel='number_of_items', ylabel='prep_bin'>"
      ]
     },
     "execution_count": 65,
     "metadata": {},
     "output_type": "execute_result"
    },
    {
     "data": {
      "image/png": "[encoded data removed]",
      "text/plain": [
       "<Figure size 640x480 with 1 Axes>"
      ]
     },
     "metadata": {},
     "output_type": "display_data"
    }
   ],
   "source": [
    "sns.barplot(data=df_final, x=\"number_of_items\", y=\"prep_bin\")"
   ]
  },
  {
   "cell_type": "code",
   "execution_count": 66,
   "id": "8f3b4056",
   "metadata": {},
   "outputs": [
    {
     "data": {
      "text/plain": [
       "<AxesSubplot:xlabel='number_of_items', ylabel='city'>"
      ]
     },
     "execution_count": 66,
     "metadata": {},
     "output_type": "execute_result"
    },
    {
     "data": {
      "image/png": "[encoded data removed]",
      "text/plain": [
       "<Figure size 640x480 with 1 Axes>"
      ]
     },
     "metadata": {},
     "output_type": "display_data"
    }
   ],
   "source": [
    "sns.barplot(data=df_final, x=\"number_of_items\", y=\"city\")"
   ]
  },
  {
   "cell_type": "code",
   "execution_count": 67,
   "id": "a96fb163",
   "metadata": {},
   "outputs": [
    {
     "data": {
      "text/plain": [
       "<AxesSubplot:xlabel='country', ylabel='city'>"
      ]
     },
     "execution_count": 67,
     "metadata": {},
     "output_type": "execute_result"
    },
    {
     "data": {
      "image/png": "[encoded data removed]",
      "text/plain": [
       "<Figure size 640x480 with 1 Axes>"
      ]
     },
     "metadata": {},
     "output_type": "display_data"
    }
   ],
   "source": [
    "sns.scatterplot(data=df_final, y=\"city\", x = \"country\")"
   ]
  },
  {
   "cell_type": "code",
   "execution_count": 68,
   "id": "6a8dd73e",
   "metadata": {},
   "outputs": [
    {
     "data": {
      "text/plain": [
       "<AxesSubplot:xlabel='prep_time_minutes', ylabel='order_value_gbp'>"
      ]
     },
     "execution_count": 68,
     "metadata": {},
     "output_type": "execute_result"
    },
    {
     "data": {
      "image/png": "[encoded data removed]",
      "text/plain": [
       "<Figure size 640x480 with 1 Axes>"
      ]
     },
     "metadata": {},
     "output_type": "display_data"
    }
   ],
   "source": [
    "sns.scatterplot(x = df_final.prep_time_minutes, y = df_final.order_value_gbp)"
   ]
  },
  {
   "cell_type": "code",
   "execution_count": 69,
   "id": "4569e16c",
   "metadata": {},
   "outputs": [
    {
     "data": {
      "text/plain": [
       "London         24530\n",
       "Paris           1975\n",
       "Manchester       913\n",
       "Brighton         629\n",
       "Oxford           521\n",
       "Edinburgh        405\n",
       "Dublin           341\n",
       "Berlin           292\n",
       "Birmingham       261\n",
       "Nottingham       214\n",
       "Leeds            214\n",
       "Glasgow          168\n",
       "Cambridge        165\n",
       "Liverpool        148\n",
       "Reading          122\n",
       "Guildford        107\n",
       "Bristol           82\n",
       "München           22\n",
       "Cheltenham        10\n",
       "Leicester          9\n",
       "Cardiff            5\n",
       "Southampton        2\n",
       "Name: city, dtype: int64"
      ]
     },
     "execution_count": 69,
     "metadata": {},
     "output_type": "execute_result"
    }
   ],
   "source": [
    "df_final[\"city\"].value_counts()"
   ]
  },
  {
   "cell_type": "code",
   "execution_count": 70,
   "id": "5ac5953c",
   "metadata": {},
   "outputs": [
    {
     "data": {
      "text/plain": [
       "count    31135.000000\n",
       "mean        15.142520\n",
       "std         10.294266\n",
       "min          0.000000\n",
       "25%          8.433333\n",
       "50%         13.283333\n",
       "75%         19.516667\n",
       "max         60.000000\n",
       "Name: prep_time_minutes, dtype: float64"
      ]
     },
     "execution_count": 70,
     "metadata": {},
     "output_type": "execute_result"
    }
   ],
   "source": [
    "df_final.prep_time_minutes.describe()\n",
    "# It shows that prep_time 19.51 accounts 75% of the data"
   ]
  },
  {
   "cell_type": "code",
   "execution_count": 71,
   "id": "304b3ce4",
   "metadata": {},
   "outputs": [
    {
     "data": {
      "text/plain": [
       "count    31135.000000\n",
       "mean        25.692510\n",
       "std         15.132611\n",
       "min          0.500000\n",
       "25%         16.670000\n",
       "50%         21.200000\n",
       "75%         29.900000\n",
       "max        357.900000\n",
       "Name: order_value_gbp, dtype: float64"
      ]
     },
     "execution_count": 71,
     "metadata": {},
     "output_type": "execute_result"
    }
   ],
   "source": [
    "df_final[\"order_value_gbp\"].describe()\n",
    "# gbp value <= 29.90 accounts for 75%"
   ]
  },
  {
   "cell_type": "code",
   "execution_count": 72,
   "id": "19126e34",
   "metadata": {},
   "outputs": [
    {
     "name": "stdout",
     "output_type": "stream",
     "text": [
      "<class 'pandas.core.frame.DataFrame'>\n",
      "Int64Index: 31135 entries, 1 to 32393\n",
      "Data columns (total 7 columns):\n",
      " #   Column             Non-Null Count  Dtype   \n",
      "---  ------             --------------  -----   \n",
      " 0   order_value_gbp    31135 non-null  float64 \n",
      " 1   number_of_items    31135 non-null  int64   \n",
      " 2   country            31135 non-null  category\n",
      " 3   city               31135 non-null  category\n",
      " 4   type_of_food       31135 non-null  category\n",
      " 5   prep_time_minutes  31135 non-null  float64 \n",
      " 6   prep_bin           31135 non-null  object  \n",
      "dtypes: category(3), float64(2), int64(1), object(1)\n",
      "memory usage: 1.3+ MB\n"
     ]
    }
   ],
   "source": [
    "df_final.info()"
   ]
  },
  {
   "cell_type": "code",
   "execution_count": 73,
   "id": "ef8c3790",
   "metadata": {},
   "outputs": [
    {
     "data": {
      "text/html": [
       "<div>\n",
       "<style scoped>\n",
       "    .dataframe tbody tr th:only-of-type {\n",
       "        vertical-align: middle;\n",
       "    }\n",
       "\n",
       "    .dataframe tbody tr th {\n",
       "        vertical-align: top;\n",
       "    }\n",
       "\n",
       "    .dataframe thead th {\n",
       "        text-align: right;\n",
       "    }\n",
       "</style>\n",
       "<table border=\"1\" class=\"dataframe\">\n",
       "  <thead>\n",
       "    <tr style=\"text-align: right;\">\n",
       "      <th></th>\n",
       "      <th>order_value_gbp</th>\n",
       "      <th>number_of_items</th>\n",
       "      <th>prep_time_minutes</th>\n",
       "    </tr>\n",
       "  </thead>\n",
       "  <tbody>\n",
       "    <tr>\n",
       "      <th>order_value_gbp</th>\n",
       "      <td>1.000000</td>\n",
       "      <td>0.516163</td>\n",
       "      <td>0.238189</td>\n",
       "    </tr>\n",
       "    <tr>\n",
       "      <th>number_of_items</th>\n",
       "      <td>0.516163</td>\n",
       "      <td>1.000000</td>\n",
       "      <td>0.164135</td>\n",
       "    </tr>\n",
       "    <tr>\n",
       "      <th>prep_time_minutes</th>\n",
       "      <td>0.238189</td>\n",
       "      <td>0.164135</td>\n",
       "      <td>1.000000</td>\n",
       "    </tr>\n",
       "  </tbody>\n",
       "</table>\n",
       "</div>"
      ],
      "text/plain": [
       "                   order_value_gbp  number_of_items  prep_time_minutes\n",
       "order_value_gbp           1.000000         0.516163           0.238189\n",
       "number_of_items           0.516163         1.000000           0.164135\n",
       "prep_time_minutes         0.238189         0.164135           1.000000"
      ]
     },
     "execution_count": 73,
     "metadata": {},
     "output_type": "execute_result"
    }
   ],
   "source": [
    "df_final.corr()"
   ]
  },
  {
   "cell_type": "code",
   "execution_count": 74,
   "id": "d07a7f3b",
   "metadata": {},
   "outputs": [],
   "source": [
    "# df_final.drop(['order_value_gbp'], axis = 1, inplace = True)"
   ]
  },
  {
   "cell_type": "markdown",
   "id": "3429343e",
   "metadata": {},
   "source": [
    "# <b><font color = 'blue'> One-hot Encoding"
   ]
  },
  {
   "cell_type": "code",
   "execution_count": 75,
   "id": "65629312",
   "metadata": {},
   "outputs": [],
   "source": [
    "df_final.drop(['prep_bin'], axis = 1, inplace = True)\n",
    "df_final= pd.get_dummies(df_final, drop_first = True)"
   ]
  },
  {
   "cell_type": "code",
   "execution_count": 76,
   "id": "fbb5aba6",
   "metadata": {},
   "outputs": [
    {
     "data": {
      "text/html": [
       "<div>\n",
       "<style scoped>\n",
       "    .dataframe tbody tr th:only-of-type {\n",
       "        vertical-align: middle;\n",
       "    }\n",
       "\n",
       "    .dataframe tbody tr th {\n",
       "        vertical-align: top;\n",
       "    }\n",
       "\n",
       "    .dataframe thead th {\n",
       "        text-align: right;\n",
       "    }\n",
       "</style>\n",
       "<table border=\"1\" class=\"dataframe\">\n",
       "  <thead>\n",
       "    <tr style=\"text-align: right;\">\n",
       "      <th></th>\n",
       "      <th>order_value_gbp</th>\n",
       "      <th>number_of_items</th>\n",
       "      <th>prep_time_minutes</th>\n",
       "      <th>country_Germany</th>\n",
       "      <th>country_Ireland</th>\n",
       "      <th>country_UK</th>\n",
       "      <th>city_Birmingham</th>\n",
       "      <th>city_Brighton</th>\n",
       "      <th>city_Bristol</th>\n",
       "      <th>city_Cambridge</th>\n",
       "      <th>...</th>\n",
       "      <th>type_of_food_spanish tapas</th>\n",
       "      <th>type_of_food_steakhouse</th>\n",
       "      <th>type_of_food_sushi</th>\n",
       "      <th>type_of_food_sweet treats</th>\n",
       "      <th>type_of_food_taiwanese</th>\n",
       "      <th>type_of_food_thai</th>\n",
       "      <th>type_of_food_thaï / brunch</th>\n",
       "      <th>type_of_food_turkish</th>\n",
       "      <th>type_of_food_vegan</th>\n",
       "      <th>type_of_food_vietnamese</th>\n",
       "    </tr>\n",
       "  </thead>\n",
       "  <tbody>\n",
       "    <tr>\n",
       "      <th>1</th>\n",
       "      <td>24.00</td>\n",
       "      <td>8</td>\n",
       "      <td>10.050000</td>\n",
       "      <td>0</td>\n",
       "      <td>0</td>\n",
       "      <td>1</td>\n",
       "      <td>0</td>\n",
       "      <td>0</td>\n",
       "      <td>0</td>\n",
       "      <td>0</td>\n",
       "      <td>...</td>\n",
       "      <td>0</td>\n",
       "      <td>0</td>\n",
       "      <td>0</td>\n",
       "      <td>0</td>\n",
       "      <td>0</td>\n",
       "      <td>0</td>\n",
       "      <td>0</td>\n",
       "      <td>0</td>\n",
       "      <td>0</td>\n",
       "      <td>0</td>\n",
       "    </tr>\n",
       "    <tr>\n",
       "      <th>2</th>\n",
       "      <td>15.25</td>\n",
       "      <td>3</td>\n",
       "      <td>7.383333</td>\n",
       "      <td>0</td>\n",
       "      <td>0</td>\n",
       "      <td>1</td>\n",
       "      <td>0</td>\n",
       "      <td>0</td>\n",
       "      <td>0</td>\n",
       "      <td>0</td>\n",
       "      <td>...</td>\n",
       "      <td>0</td>\n",
       "      <td>0</td>\n",
       "      <td>0</td>\n",
       "      <td>0</td>\n",
       "      <td>0</td>\n",
       "      <td>0</td>\n",
       "      <td>0</td>\n",
       "      <td>0</td>\n",
       "      <td>0</td>\n",
       "      <td>0</td>\n",
       "    </tr>\n",
       "    <tr>\n",
       "      <th>3</th>\n",
       "      <td>28.05</td>\n",
       "      <td>8</td>\n",
       "      <td>11.150000</td>\n",
       "      <td>0</td>\n",
       "      <td>0</td>\n",
       "      <td>1</td>\n",
       "      <td>0</td>\n",
       "      <td>0</td>\n",
       "      <td>0</td>\n",
       "      <td>0</td>\n",
       "      <td>...</td>\n",
       "      <td>0</td>\n",
       "      <td>0</td>\n",
       "      <td>0</td>\n",
       "      <td>0</td>\n",
       "      <td>0</td>\n",
       "      <td>0</td>\n",
       "      <td>0</td>\n",
       "      <td>0</td>\n",
       "      <td>0</td>\n",
       "      <td>0</td>\n",
       "    </tr>\n",
       "    <tr>\n",
       "      <th>4</th>\n",
       "      <td>56.30</td>\n",
       "      <td>7</td>\n",
       "      <td>55.233333</td>\n",
       "      <td>0</td>\n",
       "      <td>0</td>\n",
       "      <td>1</td>\n",
       "      <td>0</td>\n",
       "      <td>0</td>\n",
       "      <td>0</td>\n",
       "      <td>0</td>\n",
       "      <td>...</td>\n",
       "      <td>0</td>\n",
       "      <td>0</td>\n",
       "      <td>0</td>\n",
       "      <td>0</td>\n",
       "      <td>0</td>\n",
       "      <td>0</td>\n",
       "      <td>0</td>\n",
       "      <td>0</td>\n",
       "      <td>0</td>\n",
       "      <td>0</td>\n",
       "    </tr>\n",
       "    <tr>\n",
       "      <th>5</th>\n",
       "      <td>18.20</td>\n",
       "      <td>3</td>\n",
       "      <td>17.483333</td>\n",
       "      <td>0</td>\n",
       "      <td>0</td>\n",
       "      <td>1</td>\n",
       "      <td>0</td>\n",
       "      <td>0</td>\n",
       "      <td>0</td>\n",
       "      <td>0</td>\n",
       "      <td>...</td>\n",
       "      <td>0</td>\n",
       "      <td>0</td>\n",
       "      <td>0</td>\n",
       "      <td>0</td>\n",
       "      <td>0</td>\n",
       "      <td>0</td>\n",
       "      <td>0</td>\n",
       "      <td>0</td>\n",
       "      <td>0</td>\n",
       "      <td>0</td>\n",
       "    </tr>\n",
       "  </tbody>\n",
       "</table>\n",
       "<p>5 rows × 109 columns</p>\n",
       "</div>"
      ],
      "text/plain": [
       "   order_value_gbp  number_of_items  prep_time_minutes  country_Germany  \\\n",
       "1            24.00                8          10.050000                0   \n",
       "2            15.25                3           7.383333                0   \n",
       "3            28.05                8          11.150000                0   \n",
       "4            56.30                7          55.233333                0   \n",
       "5            18.20                3          17.483333                0   \n",
       "\n",
       "   country_Ireland  country_UK  city_Birmingham  city_Brighton  city_Bristol  \\\n",
       "1                0           1                0              0             0   \n",
       "2                0           1                0              0             0   \n",
       "3                0           1                0              0             0   \n",
       "4                0           1                0              0             0   \n",
       "5                0           1                0              0             0   \n",
       "\n",
       "   city_Cambridge  ...  type_of_food_spanish tapas  type_of_food_steakhouse  \\\n",
       "1               0  ...                           0                        0   \n",
       "2               0  ...                           0                        0   \n",
       "3               0  ...                           0                        0   \n",
       "4               0  ...                           0                        0   \n",
       "5               0  ...                           0                        0   \n",
       "\n",
       "   type_of_food_sushi  type_of_food_sweet treats  type_of_food_taiwanese  \\\n",
       "1                   0                          0                       0   \n",
       "2                   0                          0                       0   \n",
       "3                   0                          0                       0   \n",
       "4                   0                          0                       0   \n",
       "5                   0                          0                       0   \n",
       "\n",
       "   type_of_food_thai  type_of_food_thaï / brunch  type_of_food_turkish  \\\n",
       "1                  0                           0                     0   \n",
       "2                  0                           0                     0   \n",
       "3                  0                           0                     0   \n",
       "4                  0                           0                     0   \n",
       "5                  0                           0                     0   \n",
       "\n",
       "   type_of_food_vegan  type_of_food_vietnamese  \n",
       "1                   0                        0  \n",
       "2                   0                        0  \n",
       "3                   0                        0  \n",
       "4                   0                        0  \n",
       "5                   0                        0  \n",
       "\n",
       "[5 rows x 109 columns]"
      ]
     },
     "execution_count": 76,
     "metadata": {},
     "output_type": "execute_result"
    }
   ],
   "source": [
    "df_final.head()\n"
   ]
  },
  {
   "cell_type": "markdown",
   "id": "d5db023e",
   "metadata": {},
   "source": [
    "# <b><font color = blue>Model Building"
   ]
  },
  {
   "cell_type": "code",
   "execution_count": 77,
   "id": "c0cc1630",
   "metadata": {},
   "outputs": [],
   "source": [
    "#Train Test Split the data into two groups\n",
    "x = df_final.drop(['prep_time_minutes'], axis = 1)\n",
    "y = df_final.prep_time_minutes\n",
    "x_train,x_test,y_train,y_test = train_test_split(x,y, test_size = 0.2,random_state = 20)"
   ]
  },
  {
   "cell_type": "code",
   "execution_count": 78,
   "id": "5ab3a051",
   "metadata": {},
   "outputs": [],
   "source": [
    "# Model 1"
   ]
  },
  {
   "cell_type": "code",
   "execution_count": 79,
   "id": "16dcc8e7",
   "metadata": {},
   "outputs": [
    {
     "name": "stdout",
     "output_type": "stream",
     "text": [
      "{'Mean Squared error': 92.12940496559766, 'Mean Absolute error': 6.80321669420551, 'R2': 0.12421525329176997}\n"
     ]
    }
   ],
   "source": [
    "#Scale the data\n",
    "min_max_scaler = MinMaxScaler()\n",
    "mm_X_train = min_max_scaler.fit_transform(x_train)\n",
    "mm_X_test = min_max_scaler.transform (x_test)\n",
    "linear_reg = LinearRegression()\n",
    "linear_reg.fit(mm_X_train, y_train)\n",
    "y_pred= linear_reg.predict(mm_X_test)\n",
    "metrics_eval = { \"Mean Squared error\" : mean_squared_error(y_test,y_pred), \"Mean Absolute error\" : mean_absolute_error(y_test,y_pred),\"R2\": r2_score(y_test,y_pred) }\n",
    "print(metrics_eval)"
   ]
  },
  {
   "cell_type": "code",
   "execution_count": 80,
   "id": "de6c142c",
   "metadata": {},
   "outputs": [],
   "source": [
    "# Model 2"
   ]
  },
  {
   "cell_type": "code",
   "execution_count": 81,
   "id": "7fcc2897",
   "metadata": {},
   "outputs": [
    {
     "name": "stdout",
     "output_type": "stream",
     "text": [
      "{'Mean Squared error': 91.84294882455167, 'Mean Absolute error': 6.809504623816421, 'R2': 0.12693831352452256}\n"
     ]
    }
   ],
   "source": [
    "from sklearn import ensemble\n",
    "xgb_reg = ensemble.GradientBoostingRegressor()\n",
    "xgb_reg.fit(x_train, y_train)\n",
    "y_pred= xgb_reg.predict(x_test)\n",
    "metrics_eval = { \"Mean Squared error\" : mean_squared_error(y_test,y_pred), \"Mean Absolute error\" : mean_absolute_error(y_test,y_pred),\"R2\": r2_score(y_test,y_pred) }\n",
    "print(metrics_eval)"
   ]
  },
  {
   "cell_type": "code",
   "execution_count": 82,
   "id": "8ed5a0c7",
   "metadata": {},
   "outputs": [],
   "source": [
    "# Model 3"
   ]
  },
  {
   "cell_type": "code",
   "execution_count": 83,
   "id": "9f697aa5",
   "metadata": {},
   "outputs": [
    {
     "name": "stdout",
     "output_type": "stream",
     "text": [
      "{'bootstrap': True, 'max_depth': 15, 'max_features': 'sqrt', 'n_estimators': 50}\n"
     ]
    }
   ],
   "source": [
    "from sklearn.model_selection import GridSearchCV\n",
    "estimator = RandomForestRegressor(random_state= 20)\n",
    "param_of_grids = {'n_estimators' : [10,50],\n",
    "                  'max_features' : ['auto', 'sqrt'],\n",
    "                  'max_depth' : [5,10,15],\n",
    "                  'bootstrap' : [True, False]}\n",
    "grid = GridSearchCV(estimator, param_of_grids , cv = 5)\n",
    "grid.fit(x_train, y_train)\n",
    "best_param = grid.best_estimator_\n",
    "best_res = grid.best_params_\n",
    "print(best_res)"
   ]
  },
  {
   "cell_type": "code",
   "execution_count": 84,
   "id": "51128142",
   "metadata": {},
   "outputs": [
    {
     "name": "stdout",
     "output_type": "stream",
     "text": [
      "{'Mean Squared error': 92.15070729803878, 'Mean Absolute error': 6.8061598550442906, 'R2': 0.12401275271306533}\n"
     ]
    }
   ],
   "source": [
    "rf_reg = RandomForestRegressor(bootstrap = True, max_depth = 15, max_features = 'sqrt', n_estimators = 50, random_state = 20)\n",
    "rf_reg.fit(x_train, y_train)\n",
    "y_pred= rf_reg.predict(x_test)\n",
    "metrics_eval = { \"Mean Squared error\" : mean_squared_error(y_test,y_pred), \"Mean Absolute error\" : mean_absolute_error(y_test,y_pred),\"R2\": r2_score(y_test,y_pred) }\n",
    "print(metrics_eval)\n"
   ]
  },
  {
   "cell_type": "code",
   "execution_count": null,
   "id": "8beab996",
   "metadata": {},
   "outputs": [],
   "source": []
  }
 ],
 "metadata": {
  "kernelspec": {
   "display_name": "Python 3 (ipykernel)",
   "language": "python",
   "name": "python3"
  },
  "language_info": {
   "codemirror_mode": {
    "name": "ipython",
    "version": 3
   },
   "file_extension": ".py",
   "mimetype": "text/x-python",
   "name": "python",
   "nbconvert_exporter": "python",
   "pygments_lexer": "ipython3",
   "version": "3.9.13"
  }
 },
 "nbformat": 4,
 "nbformat_minor": 5
}
